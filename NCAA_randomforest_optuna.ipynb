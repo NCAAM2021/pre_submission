{
  "nbformat": 4,
  "nbformat_minor": 0,
  "metadata": {
    "colab": {
      "name": "NCAA_randomforest_optuna.ipynb",
      "provenance": []
    },
    "kernelspec": {
      "name": "python3",
      "display_name": "Python 3"
    }
  },
  "cells": [
    {
      "cell_type": "code",
      "metadata": {
        "colab": {
          "base_uri": "https://localhost:8080/"
        },
        "id": "N4s02yLNEP5s",
        "outputId": "c563a383-ceb3-4c30-f6d0-584f74a391d5"
      },
      "source": [
        "from google.colab import drive\r\n",
        "drive.mount('/content/drive')"
      ],
      "execution_count": 1,
      "outputs": [
        {
          "output_type": "stream",
          "text": [
            "Mounted at /content/drive\n"
          ],
          "name": "stdout"
        }
      ]
    },
    {
      "cell_type": "code",
      "metadata": {
        "colab": {
          "base_uri": "https://localhost:8080/"
        },
        "id": "34iK0W38EUv1",
        "outputId": "82e76610-95bd-4e33-8bd9-6a5466c90f58"
      },
      "source": [
        "import numpy as np\r\n",
        "import pandas as pd\r\n",
        "\r\n",
        "\r\n",
        "\r\n",
        "import matplotlib.pyplot as plt\r\n",
        "from sklearn.utils import shuffle\r\n",
        "\r\n",
        "from sklearn.ensemble import RandomForestClassifier\r\n",
        "\r\n",
        "from collections import Counter\r\n",
        "from sklearn.metrics import *\r\n",
        "from sklearn.linear_model import *\r\n",
        "from sklearn.model_selection import *\r\n",
        "import seaborn as sns\r\n",
        "import re\r\n",
        "import random\r\n",
        "\r\n",
        "# optuna\r\n",
        "\r\n",
        "!pip install optuna\r\n",
        "import optuna.integration.lightgbm as lgb\r\n",
        "import optuna"
      ],
      "execution_count": 10,
      "outputs": [
        {
          "output_type": "stream",
          "text": [
            "Requirement already satisfied: optuna in /usr/local/lib/python3.7/dist-packages (2.6.0)\n",
            "Requirement already satisfied: colorlog in /usr/local/lib/python3.7/dist-packages (from optuna) (4.7.2)\n",
            "Requirement already satisfied: alembic in /usr/local/lib/python3.7/dist-packages (from optuna) (1.5.6)\n",
            "Requirement already satisfied: sqlalchemy>=1.1.0 in /usr/local/lib/python3.7/dist-packages (from optuna) (1.3.23)\n",
            "Requirement already satisfied: cmaes>=0.8.2 in /usr/local/lib/python3.7/dist-packages (from optuna) (0.8.2)\n",
            "Requirement already satisfied: packaging>=20.0 in /usr/local/lib/python3.7/dist-packages (from optuna) (20.9)\n",
            "Requirement already satisfied: scipy!=1.4.0 in /usr/local/lib/python3.7/dist-packages (from optuna) (1.4.1)\n",
            "Requirement already satisfied: cliff in /usr/local/lib/python3.7/dist-packages (from optuna) (3.7.0)\n",
            "Requirement already satisfied: tqdm in /usr/local/lib/python3.7/dist-packages (from optuna) (4.41.1)\n",
            "Requirement already satisfied: numpy<1.20.0 in /usr/local/lib/python3.7/dist-packages (from optuna) (1.19.5)\n",
            "Requirement already satisfied: Mako in /usr/local/lib/python3.7/dist-packages (from alembic->optuna) (1.1.4)\n",
            "Requirement already satisfied: python-editor>=0.3 in /usr/local/lib/python3.7/dist-packages (from alembic->optuna) (1.0.4)\n",
            "Requirement already satisfied: python-dateutil in /usr/local/lib/python3.7/dist-packages (from alembic->optuna) (2.8.1)\n",
            "Requirement already satisfied: pyparsing>=2.0.2 in /usr/local/lib/python3.7/dist-packages (from packaging>=20.0->optuna) (2.4.7)\n",
            "Requirement already satisfied: stevedore>=2.0.1 in /usr/local/lib/python3.7/dist-packages (from cliff->optuna) (3.3.0)\n",
            "Requirement already satisfied: pbr!=2.1.0,>=2.0.0 in /usr/local/lib/python3.7/dist-packages (from cliff->optuna) (5.5.1)\n",
            "Requirement already satisfied: PrettyTable>=0.7.2 in /usr/local/lib/python3.7/dist-packages (from cliff->optuna) (2.1.0)\n",
            "Requirement already satisfied: PyYAML>=3.12 in /usr/local/lib/python3.7/dist-packages (from cliff->optuna) (3.13)\n",
            "Requirement already satisfied: cmd2>=1.0.0 in /usr/local/lib/python3.7/dist-packages (from cliff->optuna) (1.5.0)\n",
            "Requirement already satisfied: MarkupSafe>=0.9.2 in /usr/local/lib/python3.7/dist-packages (from Mako->alembic->optuna) (1.1.1)\n",
            "Requirement already satisfied: six>=1.5 in /usr/local/lib/python3.7/dist-packages (from python-dateutil->alembic->optuna) (1.15.0)\n",
            "Requirement already satisfied: importlib-metadata>=1.7.0; python_version < \"3.8\" in /usr/local/lib/python3.7/dist-packages (from stevedore>=2.0.1->cliff->optuna) (3.7.0)\n",
            "Requirement already satisfied: wcwidth in /usr/local/lib/python3.7/dist-packages (from PrettyTable>=0.7.2->cliff->optuna) (0.2.5)\n",
            "Requirement already satisfied: attrs>=16.3.0 in /usr/local/lib/python3.7/dist-packages (from cmd2>=1.0.0->cliff->optuna) (20.3.0)\n",
            "Requirement already satisfied: pyperclip>=1.6 in /usr/local/lib/python3.7/dist-packages (from cmd2>=1.0.0->cliff->optuna) (1.8.2)\n",
            "Requirement already satisfied: colorama>=0.3.7 in /usr/local/lib/python3.7/dist-packages (from cmd2>=1.0.0->cliff->optuna) (0.4.4)\n",
            "Requirement already satisfied: typing-extensions>=3.6.4; python_version < \"3.8\" in /usr/local/lib/python3.7/dist-packages (from importlib-metadata>=1.7.0; python_version < \"3.8\"->stevedore>=2.0.1->cliff->optuna) (3.7.4.3)\n",
            "Requirement already satisfied: zipp>=0.5 in /usr/local/lib/python3.7/dist-packages (from importlib-metadata>=1.7.0; python_version < \"3.8\"->stevedore>=2.0.1->cliff->optuna) (3.4.1)\n"
          ],
          "name": "stdout"
        }
      ]
    },
    {
      "cell_type": "code",
      "metadata": {
        "id": "7gD6y7LAEs3S"
      },
      "source": [
        "Tourney_Compact_Results  = pd.read_csv('/content/drive/MyDrive/kaggle/ncaa/MNCAATourneyCompactResults.csv')\r\n",
        "\r\n",
        "Tourney_Seeds = pd.read_csv('/content/drive/MyDrive/kaggle/ncaa/MNCAATourneySeeds.csv')\r\n",
        "\r\n",
        "RegularSeason_Compact_Results = pd.read_csv('/content/drive/MyDrive/kaggle/ncaa/MRegularSeasonCompactResults.csv')\r\n",
        "MSeasons = pd.read_csv('/content/drive/MyDrive/kaggle/ncaa/MSeasons.csv')\r\n",
        "MTeams = pd.read_csv('/content/drive/MyDrive/kaggle/ncaa/MTeams.csv')\r\n",
        "massey = pd.read_csv('/content/drive/MyDrive/kaggle/ncaa/MMasseyOrdinals.csv')\r\n",
        "\r\n",
        "\r\n",
        "test = pd.read_csv('/content/drive/MyDrive/kaggle/ncaa/MSampleSubmissionStage1.csv')"
      ],
      "execution_count": 3,
      "outputs": []
    },
    {
      "cell_type": "code",
      "metadata": {
        "id": "bB5la8eNFSRo"
      },
      "source": [
        "R_df_season.fillna(0, inplace=True)"
      ],
      "execution_count": null,
      "outputs": []
    },
    {
      "cell_type": "code",
      "metadata": {
        "id": "dGweiX4WFjWJ"
      },
      "source": [
        "def treat_seed(seed):\r\n",
        "    return int(re.sub(\"[^0-9]\", \"\", seed))"
      ],
      "execution_count": null,
      "outputs": []
    },
    {
      "cell_type": "code",
      "metadata": {
        "id": "MrW31P83FlAE"
      },
      "source": [
        "df['SeedW'] = df['SeedW'].apply(treat_seed)\r\n",
        "df['SeedL'] = df['SeedL'].apply(treat_seed)"
      ],
      "execution_count": null,
      "outputs": []
    },
    {
      "cell_type": "code",
      "metadata": {
        "colab": {
          "base_uri": "https://localhost:8080/",
          "height": 415
        },
        "id": "nH-A7DOvDPCE",
        "outputId": "0b0737a9-2e34-4baa-c29b-a64a692fe6a0"
      },
      "source": [
        "Tourney_Compact_Results"
      ],
      "execution_count": 14,
      "outputs": [
        {
          "output_type": "execute_result",
          "data": {
            "text/html": [
              "<div>\n",
              "<style scoped>\n",
              "    .dataframe tbody tr th:only-of-type {\n",
              "        vertical-align: middle;\n",
              "    }\n",
              "\n",
              "    .dataframe tbody tr th {\n",
              "        vertical-align: top;\n",
              "    }\n",
              "\n",
              "    .dataframe thead th {\n",
              "        text-align: right;\n",
              "    }\n",
              "</style>\n",
              "<table border=\"1\" class=\"dataframe\">\n",
              "  <thead>\n",
              "    <tr style=\"text-align: right;\">\n",
              "      <th></th>\n",
              "      <th>Season</th>\n",
              "      <th>DayNum</th>\n",
              "      <th>WTeamID</th>\n",
              "      <th>WScore</th>\n",
              "      <th>LTeamID</th>\n",
              "      <th>LScore</th>\n",
              "      <th>WLoc</th>\n",
              "      <th>NumOT</th>\n",
              "    </tr>\n",
              "  </thead>\n",
              "  <tbody>\n",
              "    <tr>\n",
              "      <th>0</th>\n",
              "      <td>1985</td>\n",
              "      <td>136</td>\n",
              "      <td>1116</td>\n",
              "      <td>63</td>\n",
              "      <td>1234</td>\n",
              "      <td>54</td>\n",
              "      <td>N</td>\n",
              "      <td>0</td>\n",
              "    </tr>\n",
              "    <tr>\n",
              "      <th>1</th>\n",
              "      <td>1985</td>\n",
              "      <td>136</td>\n",
              "      <td>1120</td>\n",
              "      <td>59</td>\n",
              "      <td>1345</td>\n",
              "      <td>58</td>\n",
              "      <td>N</td>\n",
              "      <td>0</td>\n",
              "    </tr>\n",
              "    <tr>\n",
              "      <th>2</th>\n",
              "      <td>1985</td>\n",
              "      <td>136</td>\n",
              "      <td>1207</td>\n",
              "      <td>68</td>\n",
              "      <td>1250</td>\n",
              "      <td>43</td>\n",
              "      <td>N</td>\n",
              "      <td>0</td>\n",
              "    </tr>\n",
              "    <tr>\n",
              "      <th>3</th>\n",
              "      <td>1985</td>\n",
              "      <td>136</td>\n",
              "      <td>1229</td>\n",
              "      <td>58</td>\n",
              "      <td>1425</td>\n",
              "      <td>55</td>\n",
              "      <td>N</td>\n",
              "      <td>0</td>\n",
              "    </tr>\n",
              "    <tr>\n",
              "      <th>4</th>\n",
              "      <td>1985</td>\n",
              "      <td>136</td>\n",
              "      <td>1242</td>\n",
              "      <td>49</td>\n",
              "      <td>1325</td>\n",
              "      <td>38</td>\n",
              "      <td>N</td>\n",
              "      <td>0</td>\n",
              "    </tr>\n",
              "    <tr>\n",
              "      <th>...</th>\n",
              "      <td>...</td>\n",
              "      <td>...</td>\n",
              "      <td>...</td>\n",
              "      <td>...</td>\n",
              "      <td>...</td>\n",
              "      <td>...</td>\n",
              "      <td>...</td>\n",
              "      <td>...</td>\n",
              "    </tr>\n",
              "    <tr>\n",
              "      <th>2246</th>\n",
              "      <td>2019</td>\n",
              "      <td>146</td>\n",
              "      <td>1120</td>\n",
              "      <td>77</td>\n",
              "      <td>1246</td>\n",
              "      <td>71</td>\n",
              "      <td>N</td>\n",
              "      <td>1</td>\n",
              "    </tr>\n",
              "    <tr>\n",
              "      <th>2247</th>\n",
              "      <td>2019</td>\n",
              "      <td>146</td>\n",
              "      <td>1277</td>\n",
              "      <td>68</td>\n",
              "      <td>1181</td>\n",
              "      <td>67</td>\n",
              "      <td>N</td>\n",
              "      <td>0</td>\n",
              "    </tr>\n",
              "    <tr>\n",
              "      <th>2248</th>\n",
              "      <td>2019</td>\n",
              "      <td>152</td>\n",
              "      <td>1403</td>\n",
              "      <td>61</td>\n",
              "      <td>1277</td>\n",
              "      <td>51</td>\n",
              "      <td>N</td>\n",
              "      <td>0</td>\n",
              "    </tr>\n",
              "    <tr>\n",
              "      <th>2249</th>\n",
              "      <td>2019</td>\n",
              "      <td>152</td>\n",
              "      <td>1438</td>\n",
              "      <td>63</td>\n",
              "      <td>1120</td>\n",
              "      <td>62</td>\n",
              "      <td>N</td>\n",
              "      <td>0</td>\n",
              "    </tr>\n",
              "    <tr>\n",
              "      <th>2250</th>\n",
              "      <td>2019</td>\n",
              "      <td>154</td>\n",
              "      <td>1438</td>\n",
              "      <td>85</td>\n",
              "      <td>1403</td>\n",
              "      <td>77</td>\n",
              "      <td>N</td>\n",
              "      <td>1</td>\n",
              "    </tr>\n",
              "  </tbody>\n",
              "</table>\n",
              "<p>2251 rows × 8 columns</p>\n",
              "</div>"
            ],
            "text/plain": [
              "      Season  DayNum  WTeamID  WScore  LTeamID  LScore WLoc  NumOT\n",
              "0       1985     136     1116      63     1234      54    N      0\n",
              "1       1985     136     1120      59     1345      58    N      0\n",
              "2       1985     136     1207      68     1250      43    N      0\n",
              "3       1985     136     1229      58     1425      55    N      0\n",
              "4       1985     136     1242      49     1325      38    N      0\n",
              "...      ...     ...      ...     ...      ...     ...  ...    ...\n",
              "2246    2019     146     1120      77     1246      71    N      1\n",
              "2247    2019     146     1277      68     1181      67    N      0\n",
              "2248    2019     152     1403      61     1277      51    N      0\n",
              "2249    2019     152     1438      63     1120      62    N      0\n",
              "2250    2019     154     1438      85     1403      77    N      1\n",
              "\n",
              "[2251 rows x 8 columns]"
            ]
          },
          "metadata": {
            "tags": []
          },
          "execution_count": 14
        }
      ]
    },
    {
      "cell_type": "code",
      "metadata": {
        "id": "tVZti6HMC778"
      },
      "source": [
        "random.seed(1)\r\n",
        "\r\n",
        "def change(data):\r\n",
        "  for index in data.index:\r\n",
        "    if random.randint(0, 1) == 1:\r\n",
        "\r\n",
        "\r\n",
        "      data.at[index, 'WLoc'] = data.at[index, 'WTeamID']\r\n",
        "      data.at[index, 'WTeamID'] = data.at[index, 'LTeamID']\r\n",
        "      data.at[index, 'LTeamID'] = data.at[index, 'WLoc']\r\n",
        "\r\n",
        "\r\n",
        "      data.at[index, 'WLoc'] = data.at[index, 'WScore']\r\n",
        "      data.at[index, 'WScore'] = data.at[index, 'LScore']\r\n",
        "      data.at[index, 'LScore'] = data.at[index, 'WLoc']\r\n",
        "\r\n",
        "  return data\r\n"
      ],
      "execution_count": 11,
      "outputs": []
    },
    {
      "cell_type": "code",
      "metadata": {
        "id": "JoQWzEpYEjrg"
      },
      "source": [
        "df = change(Tourney_Compact_Results)"
      ],
      "execution_count": 20,
      "outputs": []
    },
    {
      "cell_type": "code",
      "metadata": {
        "colab": {
          "base_uri": "https://localhost:8080/",
          "height": 415
        },
        "id": "Myu0PbXSEted",
        "outputId": "9e5ee2f8-28be-4c5c-e4e8-47adaf76dd9e"
      },
      "source": [
        "df"
      ],
      "execution_count": 21,
      "outputs": [
        {
          "output_type": "execute_result",
          "data": {
            "text/html": [
              "<div>\n",
              "<style scoped>\n",
              "    .dataframe tbody tr th:only-of-type {\n",
              "        vertical-align: middle;\n",
              "    }\n",
              "\n",
              "    .dataframe tbody tr th {\n",
              "        vertical-align: top;\n",
              "    }\n",
              "\n",
              "    .dataframe thead th {\n",
              "        text-align: right;\n",
              "    }\n",
              "</style>\n",
              "<table border=\"1\" class=\"dataframe\">\n",
              "  <thead>\n",
              "    <tr style=\"text-align: right;\">\n",
              "      <th></th>\n",
              "      <th>Season</th>\n",
              "      <th>DayNum</th>\n",
              "      <th>WTeamID</th>\n",
              "      <th>WScore</th>\n",
              "      <th>LTeamID</th>\n",
              "      <th>LScore</th>\n",
              "      <th>WLoc</th>\n",
              "      <th>NumOT</th>\n",
              "    </tr>\n",
              "  </thead>\n",
              "  <tbody>\n",
              "    <tr>\n",
              "      <th>0</th>\n",
              "      <td>1985</td>\n",
              "      <td>136</td>\n",
              "      <td>1234</td>\n",
              "      <td>54</td>\n",
              "      <td>1116</td>\n",
              "      <td>63</td>\n",
              "      <td>63</td>\n",
              "      <td>0</td>\n",
              "    </tr>\n",
              "    <tr>\n",
              "      <th>1</th>\n",
              "      <td>1985</td>\n",
              "      <td>136</td>\n",
              "      <td>1345</td>\n",
              "      <td>58</td>\n",
              "      <td>1120</td>\n",
              "      <td>59</td>\n",
              "      <td>59</td>\n",
              "      <td>0</td>\n",
              "    </tr>\n",
              "    <tr>\n",
              "      <th>2</th>\n",
              "      <td>1985</td>\n",
              "      <td>136</td>\n",
              "      <td>1250</td>\n",
              "      <td>43</td>\n",
              "      <td>1207</td>\n",
              "      <td>68</td>\n",
              "      <td>68</td>\n",
              "      <td>0</td>\n",
              "    </tr>\n",
              "    <tr>\n",
              "      <th>3</th>\n",
              "      <td>1985</td>\n",
              "      <td>136</td>\n",
              "      <td>1425</td>\n",
              "      <td>55</td>\n",
              "      <td>1229</td>\n",
              "      <td>58</td>\n",
              "      <td>58</td>\n",
              "      <td>0</td>\n",
              "    </tr>\n",
              "    <tr>\n",
              "      <th>4</th>\n",
              "      <td>1985</td>\n",
              "      <td>136</td>\n",
              "      <td>1325</td>\n",
              "      <td>38</td>\n",
              "      <td>1242</td>\n",
              "      <td>49</td>\n",
              "      <td>49</td>\n",
              "      <td>0</td>\n",
              "    </tr>\n",
              "    <tr>\n",
              "      <th>...</th>\n",
              "      <td>...</td>\n",
              "      <td>...</td>\n",
              "      <td>...</td>\n",
              "      <td>...</td>\n",
              "      <td>...</td>\n",
              "      <td>...</td>\n",
              "      <td>...</td>\n",
              "      <td>...</td>\n",
              "    </tr>\n",
              "    <tr>\n",
              "      <th>2246</th>\n",
              "      <td>2019</td>\n",
              "      <td>146</td>\n",
              "      <td>1120</td>\n",
              "      <td>77</td>\n",
              "      <td>1246</td>\n",
              "      <td>71</td>\n",
              "      <td>71</td>\n",
              "      <td>1</td>\n",
              "    </tr>\n",
              "    <tr>\n",
              "      <th>2247</th>\n",
              "      <td>2019</td>\n",
              "      <td>146</td>\n",
              "      <td>1277</td>\n",
              "      <td>68</td>\n",
              "      <td>1181</td>\n",
              "      <td>67</td>\n",
              "      <td>N</td>\n",
              "      <td>0</td>\n",
              "    </tr>\n",
              "    <tr>\n",
              "      <th>2248</th>\n",
              "      <td>2019</td>\n",
              "      <td>152</td>\n",
              "      <td>1277</td>\n",
              "      <td>51</td>\n",
              "      <td>1403</td>\n",
              "      <td>61</td>\n",
              "      <td>61</td>\n",
              "      <td>0</td>\n",
              "    </tr>\n",
              "    <tr>\n",
              "      <th>2249</th>\n",
              "      <td>2019</td>\n",
              "      <td>152</td>\n",
              "      <td>1438</td>\n",
              "      <td>63</td>\n",
              "      <td>1120</td>\n",
              "      <td>62</td>\n",
              "      <td>62</td>\n",
              "      <td>0</td>\n",
              "    </tr>\n",
              "    <tr>\n",
              "      <th>2250</th>\n",
              "      <td>2019</td>\n",
              "      <td>154</td>\n",
              "      <td>1403</td>\n",
              "      <td>77</td>\n",
              "      <td>1438</td>\n",
              "      <td>85</td>\n",
              "      <td>85</td>\n",
              "      <td>1</td>\n",
              "    </tr>\n",
              "  </tbody>\n",
              "</table>\n",
              "<p>2251 rows × 8 columns</p>\n",
              "</div>"
            ],
            "text/plain": [
              "      Season  DayNum  WTeamID  WScore  LTeamID  LScore WLoc  NumOT\n",
              "0       1985     136     1234      54     1116      63   63      0\n",
              "1       1985     136     1345      58     1120      59   59      0\n",
              "2       1985     136     1250      43     1207      68   68      0\n",
              "3       1985     136     1425      55     1229      58   58      0\n",
              "4       1985     136     1325      38     1242      49   49      0\n",
              "...      ...     ...      ...     ...      ...     ...  ...    ...\n",
              "2246    2019     146     1120      77     1246      71   71      1\n",
              "2247    2019     146     1277      68     1181      67    N      0\n",
              "2248    2019     152     1277      51     1403      61   61      0\n",
              "2249    2019     152     1438      63     1120      62   62      0\n",
              "2250    2019     154     1403      77     1438      85   85      1\n",
              "\n",
              "[2251 rows x 8 columns]"
            ]
          },
          "metadata": {
            "tags": []
          },
          "execution_count": 21
        }
      ]
    },
    {
      "cell_type": "code",
      "metadata": {
        "colab": {
          "base_uri": "https://localhost:8080/",
          "height": 415
        },
        "id": "l6AVNqNqFyn5",
        "outputId": "ec4c4a50-c9df-40d7-82af-ec266d73a0fe"
      },
      "source": [
        "# target作成\r\n",
        "\r\n",
        "df['ScoreDiff'] = df['WScore'] - df['LScore']\r\n",
        "df['Win'] = (df['ScoreDiff'] > 0).astype(int)\r\n",
        "\r\n",
        "df"
      ],
      "execution_count": 24,
      "outputs": [
        {
          "output_type": "execute_result",
          "data": {
            "text/html": [
              "<div>\n",
              "<style scoped>\n",
              "    .dataframe tbody tr th:only-of-type {\n",
              "        vertical-align: middle;\n",
              "    }\n",
              "\n",
              "    .dataframe tbody tr th {\n",
              "        vertical-align: top;\n",
              "    }\n",
              "\n",
              "    .dataframe thead th {\n",
              "        text-align: right;\n",
              "    }\n",
              "</style>\n",
              "<table border=\"1\" class=\"dataframe\">\n",
              "  <thead>\n",
              "    <tr style=\"text-align: right;\">\n",
              "      <th></th>\n",
              "      <th>Season</th>\n",
              "      <th>DayNum</th>\n",
              "      <th>WTeamID</th>\n",
              "      <th>WScore</th>\n",
              "      <th>LTeamID</th>\n",
              "      <th>LScore</th>\n",
              "      <th>WLoc</th>\n",
              "      <th>NumOT</th>\n",
              "      <th>ScoreDiff</th>\n",
              "      <th>Win</th>\n",
              "    </tr>\n",
              "  </thead>\n",
              "  <tbody>\n",
              "    <tr>\n",
              "      <th>0</th>\n",
              "      <td>1985</td>\n",
              "      <td>136</td>\n",
              "      <td>1234</td>\n",
              "      <td>54</td>\n",
              "      <td>1116</td>\n",
              "      <td>63</td>\n",
              "      <td>63</td>\n",
              "      <td>0</td>\n",
              "      <td>-9</td>\n",
              "      <td>0</td>\n",
              "    </tr>\n",
              "    <tr>\n",
              "      <th>1</th>\n",
              "      <td>1985</td>\n",
              "      <td>136</td>\n",
              "      <td>1345</td>\n",
              "      <td>58</td>\n",
              "      <td>1120</td>\n",
              "      <td>59</td>\n",
              "      <td>59</td>\n",
              "      <td>0</td>\n",
              "      <td>-1</td>\n",
              "      <td>0</td>\n",
              "    </tr>\n",
              "    <tr>\n",
              "      <th>2</th>\n",
              "      <td>1985</td>\n",
              "      <td>136</td>\n",
              "      <td>1250</td>\n",
              "      <td>43</td>\n",
              "      <td>1207</td>\n",
              "      <td>68</td>\n",
              "      <td>68</td>\n",
              "      <td>0</td>\n",
              "      <td>-25</td>\n",
              "      <td>0</td>\n",
              "    </tr>\n",
              "    <tr>\n",
              "      <th>3</th>\n",
              "      <td>1985</td>\n",
              "      <td>136</td>\n",
              "      <td>1425</td>\n",
              "      <td>55</td>\n",
              "      <td>1229</td>\n",
              "      <td>58</td>\n",
              "      <td>58</td>\n",
              "      <td>0</td>\n",
              "      <td>-3</td>\n",
              "      <td>0</td>\n",
              "    </tr>\n",
              "    <tr>\n",
              "      <th>4</th>\n",
              "      <td>1985</td>\n",
              "      <td>136</td>\n",
              "      <td>1325</td>\n",
              "      <td>38</td>\n",
              "      <td>1242</td>\n",
              "      <td>49</td>\n",
              "      <td>49</td>\n",
              "      <td>0</td>\n",
              "      <td>-11</td>\n",
              "      <td>0</td>\n",
              "    </tr>\n",
              "    <tr>\n",
              "      <th>...</th>\n",
              "      <td>...</td>\n",
              "      <td>...</td>\n",
              "      <td>...</td>\n",
              "      <td>...</td>\n",
              "      <td>...</td>\n",
              "      <td>...</td>\n",
              "      <td>...</td>\n",
              "      <td>...</td>\n",
              "      <td>...</td>\n",
              "      <td>...</td>\n",
              "    </tr>\n",
              "    <tr>\n",
              "      <th>2246</th>\n",
              "      <td>2019</td>\n",
              "      <td>146</td>\n",
              "      <td>1120</td>\n",
              "      <td>77</td>\n",
              "      <td>1246</td>\n",
              "      <td>71</td>\n",
              "      <td>71</td>\n",
              "      <td>1</td>\n",
              "      <td>6</td>\n",
              "      <td>1</td>\n",
              "    </tr>\n",
              "    <tr>\n",
              "      <th>2247</th>\n",
              "      <td>2019</td>\n",
              "      <td>146</td>\n",
              "      <td>1277</td>\n",
              "      <td>68</td>\n",
              "      <td>1181</td>\n",
              "      <td>67</td>\n",
              "      <td>N</td>\n",
              "      <td>0</td>\n",
              "      <td>1</td>\n",
              "      <td>1</td>\n",
              "    </tr>\n",
              "    <tr>\n",
              "      <th>2248</th>\n",
              "      <td>2019</td>\n",
              "      <td>152</td>\n",
              "      <td>1277</td>\n",
              "      <td>51</td>\n",
              "      <td>1403</td>\n",
              "      <td>61</td>\n",
              "      <td>61</td>\n",
              "      <td>0</td>\n",
              "      <td>-10</td>\n",
              "      <td>0</td>\n",
              "    </tr>\n",
              "    <tr>\n",
              "      <th>2249</th>\n",
              "      <td>2019</td>\n",
              "      <td>152</td>\n",
              "      <td>1438</td>\n",
              "      <td>63</td>\n",
              "      <td>1120</td>\n",
              "      <td>62</td>\n",
              "      <td>62</td>\n",
              "      <td>0</td>\n",
              "      <td>1</td>\n",
              "      <td>1</td>\n",
              "    </tr>\n",
              "    <tr>\n",
              "      <th>2250</th>\n",
              "      <td>2019</td>\n",
              "      <td>154</td>\n",
              "      <td>1403</td>\n",
              "      <td>77</td>\n",
              "      <td>1438</td>\n",
              "      <td>85</td>\n",
              "      <td>85</td>\n",
              "      <td>1</td>\n",
              "      <td>-8</td>\n",
              "      <td>0</td>\n",
              "    </tr>\n",
              "  </tbody>\n",
              "</table>\n",
              "<p>2251 rows × 10 columns</p>\n",
              "</div>"
            ],
            "text/plain": [
              "      Season  DayNum  WTeamID  WScore  ...  WLoc  NumOT ScoreDiff  Win\n",
              "0       1985     136     1234      54  ...    63      0        -9    0\n",
              "1       1985     136     1345      58  ...    59      0        -1    0\n",
              "2       1985     136     1250      43  ...    68      0       -25    0\n",
              "3       1985     136     1425      55  ...    58      0        -3    0\n",
              "4       1985     136     1325      38  ...    49      0       -11    0\n",
              "...      ...     ...      ...     ...  ...   ...    ...       ...  ...\n",
              "2246    2019     146     1120      77  ...    71      1         6    1\n",
              "2247    2019     146     1277      68  ...     N      0         1    1\n",
              "2248    2019     152     1277      51  ...    61      0       -10    0\n",
              "2249    2019     152     1438      63  ...    62      0         1    1\n",
              "2250    2019     154     1403      77  ...    85      1        -8    0\n",
              "\n",
              "[2251 rows x 10 columns]"
            ]
          },
          "metadata": {
            "tags": []
          },
          "execution_count": 24
        }
      ]
    },
    {
      "cell_type": "code",
      "metadata": {
        "colab": {
          "base_uri": "https://localhost:8080/",
          "height": 415
        },
        "id": "TeJBg2D8Gr0T",
        "outputId": "04a08c0e-16c6-472b-91ec-2eabd389bc87"
      },
      "source": [
        "test"
      ],
      "execution_count": 26,
      "outputs": [
        {
          "output_type": "execute_result",
          "data": {
            "text/html": [
              "<div>\n",
              "<style scoped>\n",
              "    .dataframe tbody tr th:only-of-type {\n",
              "        vertical-align: middle;\n",
              "    }\n",
              "\n",
              "    .dataframe tbody tr th {\n",
              "        vertical-align: top;\n",
              "    }\n",
              "\n",
              "    .dataframe thead th {\n",
              "        text-align: right;\n",
              "    }\n",
              "</style>\n",
              "<table border=\"1\" class=\"dataframe\">\n",
              "  <thead>\n",
              "    <tr style=\"text-align: right;\">\n",
              "      <th></th>\n",
              "      <th>ID</th>\n",
              "      <th>Pred</th>\n",
              "    </tr>\n",
              "  </thead>\n",
              "  <tbody>\n",
              "    <tr>\n",
              "      <th>0</th>\n",
              "      <td>2015_1107_1112</td>\n",
              "      <td>0.5</td>\n",
              "    </tr>\n",
              "    <tr>\n",
              "      <th>1</th>\n",
              "      <td>2015_1107_1116</td>\n",
              "      <td>0.5</td>\n",
              "    </tr>\n",
              "    <tr>\n",
              "      <th>2</th>\n",
              "      <td>2015_1107_1124</td>\n",
              "      <td>0.5</td>\n",
              "    </tr>\n",
              "    <tr>\n",
              "      <th>3</th>\n",
              "      <td>2015_1107_1125</td>\n",
              "      <td>0.5</td>\n",
              "    </tr>\n",
              "    <tr>\n",
              "      <th>4</th>\n",
              "      <td>2015_1107_1129</td>\n",
              "      <td>0.5</td>\n",
              "    </tr>\n",
              "    <tr>\n",
              "      <th>...</th>\n",
              "      <td>...</td>\n",
              "      <td>...</td>\n",
              "    </tr>\n",
              "    <tr>\n",
              "      <th>11385</th>\n",
              "      <td>2019_1449_1459</td>\n",
              "      <td>0.5</td>\n",
              "    </tr>\n",
              "    <tr>\n",
              "      <th>11386</th>\n",
              "      <td>2019_1449_1463</td>\n",
              "      <td>0.5</td>\n",
              "    </tr>\n",
              "    <tr>\n",
              "      <th>11387</th>\n",
              "      <td>2019_1458_1459</td>\n",
              "      <td>0.5</td>\n",
              "    </tr>\n",
              "    <tr>\n",
              "      <th>11388</th>\n",
              "      <td>2019_1458_1463</td>\n",
              "      <td>0.5</td>\n",
              "    </tr>\n",
              "    <tr>\n",
              "      <th>11389</th>\n",
              "      <td>2019_1459_1463</td>\n",
              "      <td>0.5</td>\n",
              "    </tr>\n",
              "  </tbody>\n",
              "</table>\n",
              "<p>11390 rows × 2 columns</p>\n",
              "</div>"
            ],
            "text/plain": [
              "                   ID  Pred\n",
              "0      2015_1107_1112   0.5\n",
              "1      2015_1107_1116   0.5\n",
              "2      2015_1107_1124   0.5\n",
              "3      2015_1107_1125   0.5\n",
              "4      2015_1107_1129   0.5\n",
              "...               ...   ...\n",
              "11385  2019_1449_1459   0.5\n",
              "11386  2019_1449_1463   0.5\n",
              "11387  2019_1458_1459   0.5\n",
              "11388  2019_1458_1463   0.5\n",
              "11389  2019_1459_1463   0.5\n",
              "\n",
              "[11390 rows x 2 columns]"
            ]
          },
          "metadata": {
            "tags": []
          },
          "execution_count": 26
        }
      ]
    },
    {
      "cell_type": "code",
      "metadata": {
        "id": "ereuPGzOFw7G"
      },
      "source": [
        "test['Season'] = test['ID'].apply(lambda x: int(x.split('_')[0]))\r\n",
        "test['TeamIdA'] = test['ID'].apply(lambda x: int(x.split('_')[1]))\r\n",
        "test['TeamIdB'] = test['ID'].apply(lambda x: int(x.split('_')[2]))"
      ],
      "execution_count": 27,
      "outputs": []
    },
    {
      "cell_type": "code",
      "metadata": {
        "colab": {
          "base_uri": "https://localhost:8080/",
          "height": 415
        },
        "id": "2BHdwSADGu9P",
        "outputId": "979b4a53-b105-4cbb-d098-22d938562657"
      },
      "source": [
        "test"
      ],
      "execution_count": 28,
      "outputs": [
        {
          "output_type": "execute_result",
          "data": {
            "text/html": [
              "<div>\n",
              "<style scoped>\n",
              "    .dataframe tbody tr th:only-of-type {\n",
              "        vertical-align: middle;\n",
              "    }\n",
              "\n",
              "    .dataframe tbody tr th {\n",
              "        vertical-align: top;\n",
              "    }\n",
              "\n",
              "    .dataframe thead th {\n",
              "        text-align: right;\n",
              "    }\n",
              "</style>\n",
              "<table border=\"1\" class=\"dataframe\">\n",
              "  <thead>\n",
              "    <tr style=\"text-align: right;\">\n",
              "      <th></th>\n",
              "      <th>ID</th>\n",
              "      <th>Pred</th>\n",
              "      <th>Season</th>\n",
              "      <th>TeamIdA</th>\n",
              "      <th>TeamIdB</th>\n",
              "    </tr>\n",
              "  </thead>\n",
              "  <tbody>\n",
              "    <tr>\n",
              "      <th>0</th>\n",
              "      <td>2015_1107_1112</td>\n",
              "      <td>0.5</td>\n",
              "      <td>2015</td>\n",
              "      <td>1107</td>\n",
              "      <td>1112</td>\n",
              "    </tr>\n",
              "    <tr>\n",
              "      <th>1</th>\n",
              "      <td>2015_1107_1116</td>\n",
              "      <td>0.5</td>\n",
              "      <td>2015</td>\n",
              "      <td>1107</td>\n",
              "      <td>1116</td>\n",
              "    </tr>\n",
              "    <tr>\n",
              "      <th>2</th>\n",
              "      <td>2015_1107_1124</td>\n",
              "      <td>0.5</td>\n",
              "      <td>2015</td>\n",
              "      <td>1107</td>\n",
              "      <td>1124</td>\n",
              "    </tr>\n",
              "    <tr>\n",
              "      <th>3</th>\n",
              "      <td>2015_1107_1125</td>\n",
              "      <td>0.5</td>\n",
              "      <td>2015</td>\n",
              "      <td>1107</td>\n",
              "      <td>1125</td>\n",
              "    </tr>\n",
              "    <tr>\n",
              "      <th>4</th>\n",
              "      <td>2015_1107_1129</td>\n",
              "      <td>0.5</td>\n",
              "      <td>2015</td>\n",
              "      <td>1107</td>\n",
              "      <td>1129</td>\n",
              "    </tr>\n",
              "    <tr>\n",
              "      <th>...</th>\n",
              "      <td>...</td>\n",
              "      <td>...</td>\n",
              "      <td>...</td>\n",
              "      <td>...</td>\n",
              "      <td>...</td>\n",
              "    </tr>\n",
              "    <tr>\n",
              "      <th>11385</th>\n",
              "      <td>2019_1449_1459</td>\n",
              "      <td>0.5</td>\n",
              "      <td>2019</td>\n",
              "      <td>1449</td>\n",
              "      <td>1459</td>\n",
              "    </tr>\n",
              "    <tr>\n",
              "      <th>11386</th>\n",
              "      <td>2019_1449_1463</td>\n",
              "      <td>0.5</td>\n",
              "      <td>2019</td>\n",
              "      <td>1449</td>\n",
              "      <td>1463</td>\n",
              "    </tr>\n",
              "    <tr>\n",
              "      <th>11387</th>\n",
              "      <td>2019_1458_1459</td>\n",
              "      <td>0.5</td>\n",
              "      <td>2019</td>\n",
              "      <td>1458</td>\n",
              "      <td>1459</td>\n",
              "    </tr>\n",
              "    <tr>\n",
              "      <th>11388</th>\n",
              "      <td>2019_1458_1463</td>\n",
              "      <td>0.5</td>\n",
              "      <td>2019</td>\n",
              "      <td>1458</td>\n",
              "      <td>1463</td>\n",
              "    </tr>\n",
              "    <tr>\n",
              "      <th>11389</th>\n",
              "      <td>2019_1459_1463</td>\n",
              "      <td>0.5</td>\n",
              "      <td>2019</td>\n",
              "      <td>1459</td>\n",
              "      <td>1463</td>\n",
              "    </tr>\n",
              "  </tbody>\n",
              "</table>\n",
              "<p>11390 rows × 5 columns</p>\n",
              "</div>"
            ],
            "text/plain": [
              "                   ID  Pred  Season  TeamIdA  TeamIdB\n",
              "0      2015_1107_1112   0.5    2015     1107     1112\n",
              "1      2015_1107_1116   0.5    2015     1107     1116\n",
              "2      2015_1107_1124   0.5    2015     1107     1124\n",
              "3      2015_1107_1125   0.5    2015     1107     1125\n",
              "4      2015_1107_1129   0.5    2015     1107     1129\n",
              "...               ...   ...     ...      ...      ...\n",
              "11385  2019_1449_1459   0.5    2019     1449     1459\n",
              "11386  2019_1449_1463   0.5    2019     1449     1463\n",
              "11387  2019_1458_1459   0.5    2019     1458     1459\n",
              "11388  2019_1458_1463   0.5    2019     1458     1463\n",
              "11389  2019_1459_1463   0.5    2019     1459     1463\n",
              "\n",
              "[11390 rows x 5 columns]"
            ]
          },
          "metadata": {
            "tags": []
          },
          "execution_count": 28
        }
      ]
    },
    {
      "cell_type": "code",
      "metadata": {
        "id": "YONXcGo3ogdU"
      },
      "source": [
        "# modelingで使用する特徴量の選択をする\r\n",
        "# 学習させるときは、Training_dataとTest_dataのカラム名を合わせる！！\r\n",
        "# 学習に必要な特徴量の名前をリストに加える\r\n",
        "\r\n",
        "features = [\r\n",
        "            'Season',\r\n",
        "           'SeedA',\r\n",
        "           'SeedB',\r\n",
        "#           'Wrank',\r\n",
        "#           'Lrank',\r\n",
        " #          'W_match_count',\r\n",
        " #          'L_match_count'\r\n",
        "           ]"
      ],
      "execution_count": 30,
      "outputs": []
    },
    {
      "cell_type": "code",
      "metadata": {
        "id": "ibOJq-gGMgCz"
      },
      "source": [
        "# sclase 正規化の関数  df_trainは学習させたいデータ df_testは、予測で使用するテストデータ\r\n",
        "\r\n",
        "def rescale(features, df_train, df_test=None):\r\n",
        "    train_min = df_train[features].min()\r\n",
        "    train_max = df_train[features].max()\r\n",
        "    \r\n",
        "    df_train[features] = (df_train[features] - train_min) / (train_max - train_min)\r\n",
        "\r\n",
        "    if df_test is not None:\r\n",
        "      test_min = df_test[features].min()\r\n",
        "      test_max = df_test[features].max()\r\n",
        "      df_test[features] = (df_test[features] - test_min) / (test_max - test_min)\r\n",
        "\r\n",
        "      return df_train[features], df_test[features]\r\n",
        "        \r\n",
        "    return df_train[features]"
      ],
      "execution_count": 31,
      "outputs": []
    },
    {
      "cell_type": "code",
      "metadata": {
        "id": "i_UpSOsHIGRT"
      },
      "source": [
        "# 例\r\n",
        "\r\n",
        "#df_rescale, test_rescale = rescale(features, df, test)\r\n",
        "\r\n"
      ],
      "execution_count": 32,
      "outputs": []
    },
    {
      "cell_type": "code",
      "metadata": {
        "colab": {
          "base_uri": "https://localhost:8080/",
          "height": 613
        },
        "id": "oBQD43EqZLoG",
        "outputId": "0d54373c-6c85-4577-9a52-1ed28c449293"
      },
      "source": [
        "# optunaと交差検証用のデータセットをそれぞれ作成\r\n",
        "# optunaで使用するデータセットとk_fold(交差検証)で使用するデータセットの二つを用意する\r\n",
        "\r\n",
        "#　交差検証用のデータセット\r\n",
        "\r\n",
        "X = df\r\n",
        "test = df_test\r\n",
        "\r\n",
        "# optuna用のデータセット\r\n",
        "# rescaleしてます\r\n",
        "\r\n",
        "X1 = df\r\n",
        "X1 = rescale(features, X1)\r\n",
        "\r\n",
        "y = df['WinA']\r\n",
        "\r\n",
        "display(X1)\r\n",
        "display(y)"
      ],
      "execution_count": null,
      "outputs": [
        {
          "output_type": "display_data",
          "data": {
            "text/html": [
              "<div>\n",
              "<style scoped>\n",
              "    .dataframe tbody tr th:only-of-type {\n",
              "        vertical-align: middle;\n",
              "    }\n",
              "\n",
              "    .dataframe tbody tr th {\n",
              "        vertical-align: top;\n",
              "    }\n",
              "\n",
              "    .dataframe thead th {\n",
              "        text-align: right;\n",
              "    }\n",
              "</style>\n",
              "<table border=\"1\" class=\"dataframe\">\n",
              "  <thead>\n",
              "    <tr style=\"text-align: right;\">\n",
              "      <th></th>\n",
              "      <th>SeedA</th>\n",
              "      <th>SeedB</th>\n",
              "      <th>WinRatioA</th>\n",
              "      <th>GapAvgA</th>\n",
              "      <th>WinRatioB</th>\n",
              "      <th>GapAvgB</th>\n",
              "      <th>SeedDiff</th>\n",
              "      <th>WinRatioDiff</th>\n",
              "      <th>GapAvgDiff</th>\n",
              "    </tr>\n",
              "  </thead>\n",
              "  <tbody>\n",
              "    <tr>\n",
              "      <th>0</th>\n",
              "      <td>1.000000</td>\n",
              "      <td>1.000000</td>\n",
              "      <td>0.128857</td>\n",
              "      <td>0.000000</td>\n",
              "      <td>0.368421</td>\n",
              "      <td>0.296754</td>\n",
              "      <td>0.500000</td>\n",
              "      <td>0.380218</td>\n",
              "      <td>0.311979</td>\n",
              "    </tr>\n",
              "    <tr>\n",
              "      <th>1</th>\n",
              "      <td>0.000000</td>\n",
              "      <td>1.000000</td>\n",
              "      <td>0.830827</td>\n",
              "      <td>0.715636</td>\n",
              "      <td>0.455535</td>\n",
              "      <td>0.383398</td>\n",
              "      <td>0.000000</td>\n",
              "      <td>0.687646</td>\n",
              "      <td>0.710504</td>\n",
              "    </tr>\n",
              "    <tr>\n",
              "      <th>2</th>\n",
              "      <td>0.600000</td>\n",
              "      <td>0.400000</td>\n",
              "      <td>0.401089</td>\n",
              "      <td>0.452298</td>\n",
              "      <td>0.673321</td>\n",
              "      <td>0.513420</td>\n",
              "      <td>0.600000</td>\n",
              "      <td>0.363884</td>\n",
              "      <td>0.461274</td>\n",
              "    </tr>\n",
              "    <tr>\n",
              "      <th>3</th>\n",
              "      <td>0.666667</td>\n",
              "      <td>0.333333</td>\n",
              "      <td>0.673321</td>\n",
              "      <td>0.430072</td>\n",
              "      <td>0.808612</td>\n",
              "      <td>0.713858</td>\n",
              "      <td>0.666667</td>\n",
              "      <td>0.432354</td>\n",
              "      <td>0.320196</td>\n",
              "    </tr>\n",
              "    <tr>\n",
              "      <th>4</th>\n",
              "      <td>0.466667</td>\n",
              "      <td>0.533333</td>\n",
              "      <td>0.564428</td>\n",
              "      <td>0.385620</td>\n",
              "      <td>0.368421</td>\n",
              "      <td>0.375174</td>\n",
              "      <td>0.466667</td>\n",
              "      <td>0.598004</td>\n",
              "      <td>0.506619</td>\n",
              "    </tr>\n",
              "    <tr>\n",
              "      <th>...</th>\n",
              "      <td>...</td>\n",
              "      <td>...</td>\n",
              "      <td>...</td>\n",
              "      <td>...</td>\n",
              "      <td>...</td>\n",
              "      <td>...</td>\n",
              "      <td>...</td>\n",
              "      <td>...</td>\n",
              "      <td>...</td>\n",
              "    </tr>\n",
              "    <tr>\n",
              "      <th>1110</th>\n",
              "      <td>0.066667</td>\n",
              "      <td>0.266667</td>\n",
              "      <td>0.712919</td>\n",
              "      <td>0.597643</td>\n",
              "      <td>0.582043</td>\n",
              "      <td>0.565128</td>\n",
              "      <td>0.400000</td>\n",
              "      <td>0.565438</td>\n",
              "      <td>0.520601</td>\n",
              "    </tr>\n",
              "    <tr>\n",
              "      <th>1111</th>\n",
              "      <td>0.000000</td>\n",
              "      <td>0.066667</td>\n",
              "      <td>0.767802</td>\n",
              "      <td>0.747119</td>\n",
              "      <td>0.721362</td>\n",
              "      <td>0.661811</td>\n",
              "      <td>0.466667</td>\n",
              "      <td>0.523220</td>\n",
              "      <td>0.554051</td>\n",
              "    </tr>\n",
              "    <tr>\n",
              "      <th>1112</th>\n",
              "      <td>0.066667</td>\n",
              "      <td>0.133333</td>\n",
              "      <td>0.721362</td>\n",
              "      <td>0.661811</td>\n",
              "      <td>0.703947</td>\n",
              "      <td>0.678517</td>\n",
              "      <td>0.466667</td>\n",
              "      <td>0.508707</td>\n",
              "      <td>0.489415</td>\n",
              "    </tr>\n",
              "    <tr>\n",
              "      <th>1113</th>\n",
              "      <td>0.266667</td>\n",
              "      <td>0.000000</td>\n",
              "      <td>0.582043</td>\n",
              "      <td>0.565128</td>\n",
              "      <td>0.851974</td>\n",
              "      <td>0.774193</td>\n",
              "      <td>0.633333</td>\n",
              "      <td>0.365035</td>\n",
              "      <td>0.367538</td>\n",
              "    </tr>\n",
              "    <tr>\n",
              "      <th>1114</th>\n",
              "      <td>0.133333</td>\n",
              "      <td>0.000000</td>\n",
              "      <td>0.703947</td>\n",
              "      <td>0.678517</td>\n",
              "      <td>0.851974</td>\n",
              "      <td>0.774193</td>\n",
              "      <td>0.566667</td>\n",
              "      <td>0.425987</td>\n",
              "      <td>0.439380</td>\n",
              "    </tr>\n",
              "  </tbody>\n",
              "</table>\n",
              "<p>2230 rows × 9 columns</p>\n",
              "</div>"
            ],
            "text/plain": [
              "         SeedA     SeedB  WinRatioA  ...  SeedDiff  WinRatioDiff  GapAvgDiff\n",
              "0     1.000000  1.000000   0.128857  ...  0.500000      0.380218    0.311979\n",
              "1     0.000000  1.000000   0.830827  ...  0.000000      0.687646    0.710504\n",
              "2     0.600000  0.400000   0.401089  ...  0.600000      0.363884    0.461274\n",
              "3     0.666667  0.333333   0.673321  ...  0.666667      0.432354    0.320196\n",
              "4     0.466667  0.533333   0.564428  ...  0.466667      0.598004    0.506619\n",
              "...        ...       ...        ...  ...       ...           ...         ...\n",
              "1110  0.066667  0.266667   0.712919  ...  0.400000      0.565438    0.520601\n",
              "1111  0.000000  0.066667   0.767802  ...  0.466667      0.523220    0.554051\n",
              "1112  0.066667  0.133333   0.721362  ...  0.466667      0.508707    0.489415\n",
              "1113  0.266667  0.000000   0.582043  ...  0.633333      0.365035    0.367538\n",
              "1114  0.133333  0.000000   0.703947  ...  0.566667      0.425987    0.439380\n",
              "\n",
              "[2230 rows x 9 columns]"
            ]
          },
          "metadata": {
            "tags": []
          }
        },
        {
          "output_type": "display_data",
          "data": {
            "text/plain": [
              "0       1\n",
              "1       1\n",
              "2       1\n",
              "3       1\n",
              "4       1\n",
              "       ..\n",
              "1110    0\n",
              "1111    0\n",
              "1112    0\n",
              "1113    0\n",
              "1114    0\n",
              "Name: WinA, Length: 2230, dtype: int64"
            ]
          },
          "metadata": {
            "tags": []
          }
        }
      ]
    },
    {
      "cell_type": "code",
      "metadata": {
        "id": "G7tFTPaVmR7V"
      },
      "source": [
        "# Optuna用の交差検証のためのtrainデータとtestデータの作成\r\n",
        "\r\n",
        "\r\n",
        "train_x, test_x, train_y, test_y = train_test_split(X1, y, test_size=0.30, random_state=1)\r\n",
        "\r\n"
      ],
      "execution_count": null,
      "outputs": []
    },
    {
      "cell_type": "code",
      "metadata": {
        "id": "rcOA987IY7L1"
      },
      "source": [
        "def objective(trial):\r\n",
        "    criterion = trial.suggest_categorical('criterion', ['gini','entropy'])\r\n",
        "    bootstrap = trial.suggest_categorical('bootstrap',['True','False'])\r\n",
        "    max_depth = trial.suggest_int('max_depth', 1, 4)\r\n",
        "    max_features = trial.suggest_categorical('max_features', ['auto', 'sqrt','log2'])\r\n",
        "    max_leaf_nodes = trial.suggest_int('max_leaf_nodes', 2,5)\r\n",
        "    n_estimators =  trial.suggest_int('n_estimators', 1, 30)\r\n",
        "    min_samples_split = trial.suggest_int('min_samples_split',2,10)\r\n",
        "    min_samples_leaf = trial.suggest_int('min_samples_leaf',2,10)\r\n",
        "    random_state  = trial.suggest_int('random_state', 1, 10)\r\n",
        "\r\n",
        "    clf = RandomForestClassifier(bootstrap = bootstrap, criterion = criterion,\r\n",
        "                                 max_depth = max_depth, max_features = max_features,\r\n",
        "                                 max_leaf_nodes = max_leaf_nodes,n_estimators = n_estimators,\r\n",
        "                                 min_samples_split = min_samples_split,min_samples_leaf = min_samples_leaf,\r\n",
        "                                 n_jobs=2,random_state=random_state)\r\n",
        "    \r\n",
        "    clf.fit(train_x,train_y)\r\n",
        "    clf_probs = clf.predict_proba(test_x)\r\n",
        "\r\n",
        "    score = log_loss(test_y, clf_probs)\r\n",
        "    print(score)\r\n",
        "\r\n",
        "    return score\r\n"
      ],
      "execution_count": null,
      "outputs": []
    },
    {
      "cell_type": "code",
      "metadata": {
        "colab": {
          "base_uri": "https://localhost:8080/"
        },
        "id": "bBNfLnBDci78",
        "outputId": "f847eccc-82ab-41dc-b61c-04bc0999b4a5"
      },
      "source": [
        "study = optuna.create_study(direction='minimize')\r\n",
        "study.optimize(objective, n_trials=100)"
      ],
      "execution_count": null,
      "outputs": [
        {
          "output_type": "stream",
          "text": [
            "\u001b[32m[I 2021-03-07 03:01:30,112]\u001b[0m A new study created in memory with name: no-name-048219ef-a1fe-4640-9d86-6e8ddb645635\u001b[0m\n",
            "\u001b[32m[I 2021-03-07 03:01:30,335]\u001b[0m Trial 0 finished with value: 0.5786256424645088 and parameters: {'criterion': 'entropy', 'bootstrap': 'True', 'max_depth': 4, 'max_features': 'log2', 'max_leaf_nodes': 3, 'n_estimators': 9, 'min_samples_split': 7, 'min_samples_leaf': 5, 'random_state': 9}. Best is trial 0 with value: 0.5786256424645088.\u001b[0m\n"
          ],
          "name": "stderr"
        },
        {
          "output_type": "stream",
          "text": [
            "0.5786256424645088\n"
          ],
          "name": "stdout"
        },
        {
          "output_type": "stream",
          "text": [
            "\u001b[32m[I 2021-03-07 03:01:30,555]\u001b[0m Trial 1 finished with value: 0.5995787370700179 and parameters: {'criterion': 'entropy', 'bootstrap': 'False', 'max_depth': 1, 'max_features': 'sqrt', 'max_leaf_nodes': 3, 'n_estimators': 23, 'min_samples_split': 6, 'min_samples_leaf': 5, 'random_state': 5}. Best is trial 0 with value: 0.5786256424645088.\u001b[0m\n"
          ],
          "name": "stderr"
        },
        {
          "output_type": "stream",
          "text": [
            "0.5995787370700179\n"
          ],
          "name": "stdout"
        },
        {
          "output_type": "stream",
          "text": [
            "\u001b[32m[I 2021-03-07 03:01:30,773]\u001b[0m Trial 2 finished with value: 0.5695807604953543 and parameters: {'criterion': 'gini', 'bootstrap': 'True', 'max_depth': 4, 'max_features': 'log2', 'max_leaf_nodes': 5, 'n_estimators': 14, 'min_samples_split': 3, 'min_samples_leaf': 4, 'random_state': 5}. Best is trial 2 with value: 0.5695807604953543.\u001b[0m\n"
          ],
          "name": "stderr"
        },
        {
          "output_type": "stream",
          "text": [
            "0.5695807604953543\n"
          ],
          "name": "stdout"
        },
        {
          "output_type": "stream",
          "text": [
            "\u001b[32m[I 2021-03-07 03:01:30,993]\u001b[0m Trial 3 finished with value: 0.5849365031027817 and parameters: {'criterion': 'entropy', 'bootstrap': 'False', 'max_depth': 2, 'max_features': 'log2', 'max_leaf_nodes': 3, 'n_estimators': 8, 'min_samples_split': 6, 'min_samples_leaf': 9, 'random_state': 4}. Best is trial 2 with value: 0.5695807604953543.\u001b[0m\n"
          ],
          "name": "stderr"
        },
        {
          "output_type": "stream",
          "text": [
            "0.5849365031027817\n"
          ],
          "name": "stdout"
        },
        {
          "output_type": "stream",
          "text": [
            "\u001b[32m[I 2021-03-07 03:01:31,215]\u001b[0m Trial 4 finished with value: 0.5846062398357202 and parameters: {'criterion': 'gini', 'bootstrap': 'False', 'max_depth': 4, 'max_features': 'sqrt', 'max_leaf_nodes': 3, 'n_estimators': 17, 'min_samples_split': 4, 'min_samples_leaf': 3, 'random_state': 2}. Best is trial 2 with value: 0.5695807604953543.\u001b[0m\n"
          ],
          "name": "stderr"
        },
        {
          "output_type": "stream",
          "text": [
            "0.5846062398357202\n"
          ],
          "name": "stdout"
        },
        {
          "output_type": "stream",
          "text": [
            "\u001b[32m[I 2021-03-07 03:01:31,439]\u001b[0m Trial 5 finished with value: 0.5748364547664574 and parameters: {'criterion': 'entropy', 'bootstrap': 'True', 'max_depth': 2, 'max_features': 'sqrt', 'max_leaf_nodes': 4, 'n_estimators': 23, 'min_samples_split': 3, 'min_samples_leaf': 5, 'random_state': 8}. Best is trial 2 with value: 0.5695807604953543.\u001b[0m\n"
          ],
          "name": "stderr"
        },
        {
          "output_type": "stream",
          "text": [
            "0.5748364547664574\n"
          ],
          "name": "stdout"
        },
        {
          "output_type": "stream",
          "text": [
            "\u001b[32m[I 2021-03-07 03:01:31,657]\u001b[0m Trial 6 finished with value: 0.587294211222958 and parameters: {'criterion': 'entropy', 'bootstrap': 'False', 'max_depth': 2, 'max_features': 'auto', 'max_leaf_nodes': 3, 'n_estimators': 7, 'min_samples_split': 6, 'min_samples_leaf': 8, 'random_state': 4}. Best is trial 2 with value: 0.5695807604953543.\u001b[0m\n",
            "\u001b[32m[I 2021-03-07 03:01:31,770]\u001b[0m Trial 7 finished with value: 0.6190722795386254 and parameters: {'criterion': 'gini', 'bootstrap': 'False', 'max_depth': 4, 'max_features': 'log2', 'max_leaf_nodes': 2, 'n_estimators': 1, 'min_samples_split': 2, 'min_samples_leaf': 3, 'random_state': 2}. Best is trial 2 with value: 0.5695807604953543.\u001b[0m\n"
          ],
          "name": "stderr"
        },
        {
          "output_type": "stream",
          "text": [
            "0.587294211222958\n",
            "0.6190722795386254\n"
          ],
          "name": "stdout"
        },
        {
          "output_type": "stream",
          "text": [
            "\u001b[32m[I 2021-03-07 03:01:31,996]\u001b[0m Trial 8 finished with value: 0.5707295994812043 and parameters: {'criterion': 'gini', 'bootstrap': 'False', 'max_depth': 2, 'max_features': 'log2', 'max_leaf_nodes': 4, 'n_estimators': 18, 'min_samples_split': 8, 'min_samples_leaf': 5, 'random_state': 3}. Best is trial 2 with value: 0.5695807604953543.\u001b[0m\n"
          ],
          "name": "stderr"
        },
        {
          "output_type": "stream",
          "text": [
            "0.5707295994812043\n"
          ],
          "name": "stdout"
        },
        {
          "output_type": "stream",
          "text": [
            "\u001b[32m[I 2021-03-07 03:01:32,214]\u001b[0m Trial 9 finished with value: 0.569790818623866 and parameters: {'criterion': 'gini', 'bootstrap': 'True', 'max_depth': 3, 'max_features': 'auto', 'max_leaf_nodes': 5, 'n_estimators': 5, 'min_samples_split': 10, 'min_samples_leaf': 8, 'random_state': 9}. Best is trial 2 with value: 0.5695807604953543.\u001b[0m\n"
          ],
          "name": "stderr"
        },
        {
          "output_type": "stream",
          "text": [
            "0.569790818623866\n"
          ],
          "name": "stdout"
        },
        {
          "output_type": "stream",
          "text": [
            "\u001b[32m[I 2021-03-07 03:01:32,447]\u001b[0m Trial 10 finished with value: 0.5742175203721035 and parameters: {'criterion': 'gini', 'bootstrap': 'True', 'max_depth': 3, 'max_features': 'log2', 'max_leaf_nodes': 5, 'n_estimators': 29, 'min_samples_split': 4, 'min_samples_leaf': 3, 'random_state': 7}. Best is trial 2 with value: 0.5695807604953543.\u001b[0m\n"
          ],
          "name": "stderr"
        },
        {
          "output_type": "stream",
          "text": [
            "0.5742175203721035\n"
          ],
          "name": "stdout"
        },
        {
          "output_type": "stream",
          "text": [
            "\u001b[32m[I 2021-03-07 03:01:32,673]\u001b[0m Trial 11 finished with value: 0.5706187961065593 and parameters: {'criterion': 'gini', 'bootstrap': 'True', 'max_depth': 3, 'max_features': 'auto', 'max_leaf_nodes': 5, 'n_estimators': 3, 'min_samples_split': 10, 'min_samples_leaf': 7, 'random_state': 10}. Best is trial 2 with value: 0.5695807604953543.\u001b[0m\n"
          ],
          "name": "stderr"
        },
        {
          "output_type": "stream",
          "text": [
            "0.5706187961065593\n"
          ],
          "name": "stdout"
        },
        {
          "output_type": "stream",
          "text": [
            "\u001b[32m[I 2021-03-07 03:01:32,899]\u001b[0m Trial 12 finished with value: 0.5665855400909008 and parameters: {'criterion': 'gini', 'bootstrap': 'True', 'max_depth': 3, 'max_features': 'auto', 'max_leaf_nodes': 5, 'n_estimators': 11, 'min_samples_split': 10, 'min_samples_leaf': 10, 'random_state': 6}. Best is trial 12 with value: 0.5665855400909008.\u001b[0m\n"
          ],
          "name": "stderr"
        },
        {
          "output_type": "stream",
          "text": [
            "0.5665855400909008\n"
          ],
          "name": "stdout"
        },
        {
          "output_type": "stream",
          "text": [
            "\u001b[32m[I 2021-03-07 03:01:33,126]\u001b[0m Trial 13 finished with value: 0.5662182901797679 and parameters: {'criterion': 'gini', 'bootstrap': 'True', 'max_depth': 4, 'max_features': 'auto', 'max_leaf_nodes': 5, 'n_estimators': 12, 'min_samples_split': 9, 'min_samples_leaf': 10, 'random_state': 6}. Best is trial 13 with value: 0.5662182901797679.\u001b[0m\n"
          ],
          "name": "stderr"
        },
        {
          "output_type": "stream",
          "text": [
            "0.5662182901797679\n"
          ],
          "name": "stdout"
        },
        {
          "output_type": "stream",
          "text": [
            "\u001b[32m[I 2021-03-07 03:01:33,355]\u001b[0m Trial 14 finished with value: 0.5790958495346868 and parameters: {'criterion': 'gini', 'bootstrap': 'True', 'max_depth': 3, 'max_features': 'auto', 'max_leaf_nodes': 4, 'n_estimators': 13, 'min_samples_split': 9, 'min_samples_leaf': 10, 'random_state': 7}. Best is trial 13 with value: 0.5662182901797679.\u001b[0m\n"
          ],
          "name": "stderr"
        },
        {
          "output_type": "stream",
          "text": [
            "0.5790958495346868\n"
          ],
          "name": "stdout"
        },
        {
          "output_type": "stream",
          "text": [
            "\u001b[32m[I 2021-03-07 03:01:33,585]\u001b[0m Trial 15 finished with value: 0.5662182901797679 and parameters: {'criterion': 'gini', 'bootstrap': 'True', 'max_depth': 4, 'max_features': 'auto', 'max_leaf_nodes': 5, 'n_estimators': 12, 'min_samples_split': 9, 'min_samples_leaf': 10, 'random_state': 6}. Best is trial 13 with value: 0.5662182901797679.\u001b[0m\n"
          ],
          "name": "stderr"
        },
        {
          "output_type": "stream",
          "text": [
            "0.5662182901797679\n"
          ],
          "name": "stdout"
        },
        {
          "output_type": "stream",
          "text": [
            "\u001b[32m[I 2021-03-07 03:01:33,818]\u001b[0m Trial 16 finished with value: 0.5701456508377587 and parameters: {'criterion': 'gini', 'bootstrap': 'True', 'max_depth': 4, 'max_features': 'auto', 'max_leaf_nodes': 4, 'n_estimators': 20, 'min_samples_split': 8, 'min_samples_leaf': 10, 'random_state': 6}. Best is trial 13 with value: 0.5662182901797679.\u001b[0m\n"
          ],
          "name": "stderr"
        },
        {
          "output_type": "stream",
          "text": [
            "0.5701456508377587\n"
          ],
          "name": "stdout"
        },
        {
          "output_type": "stream",
          "text": [
            "\u001b[32m[I 2021-03-07 03:01:34,048]\u001b[0m Trial 17 finished with value: 0.5703833290096377 and parameters: {'criterion': 'gini', 'bootstrap': 'True', 'max_depth': 4, 'max_features': 'auto', 'max_leaf_nodes': 5, 'n_estimators': 12, 'min_samples_split': 8, 'min_samples_leaf': 9, 'random_state': 7}. Best is trial 13 with value: 0.5662182901797679.\u001b[0m\n"
          ],
          "name": "stderr"
        },
        {
          "output_type": "stream",
          "text": [
            "0.5703833290096377\n"
          ],
          "name": "stdout"
        },
        {
          "output_type": "stream",
          "text": [
            "\u001b[32m[I 2021-03-07 03:01:34,283]\u001b[0m Trial 18 finished with value: 0.6002806690306167 and parameters: {'criterion': 'gini', 'bootstrap': 'True', 'max_depth': 1, 'max_features': 'auto', 'max_leaf_nodes': 4, 'n_estimators': 16, 'min_samples_split': 9, 'min_samples_leaf': 7, 'random_state': 4}. Best is trial 13 with value: 0.5662182901797679.\u001b[0m\n"
          ],
          "name": "stderr"
        },
        {
          "output_type": "stream",
          "text": [
            "0.6002806690306167\n"
          ],
          "name": "stdout"
        },
        {
          "output_type": "stream",
          "text": [
            "\u001b[32m[I 2021-03-07 03:01:34,519]\u001b[0m Trial 19 finished with value: 0.6022877507937848 and parameters: {'criterion': 'gini', 'bootstrap': 'True', 'max_depth': 4, 'max_features': 'auto', 'max_leaf_nodes': 2, 'n_estimators': 20, 'min_samples_split': 9, 'min_samples_leaf': 9, 'random_state': 8}. Best is trial 13 with value: 0.5662182901797679.\u001b[0m\n"
          ],
          "name": "stderr"
        },
        {
          "output_type": "stream",
          "text": [
            "0.6022877507937848\n"
          ],
          "name": "stdout"
        },
        {
          "output_type": "stream",
          "text": [
            "\u001b[32m[I 2021-03-07 03:01:34,746]\u001b[0m Trial 20 finished with value: 0.5720552364819111 and parameters: {'criterion': 'gini', 'bootstrap': 'True', 'max_depth': 3, 'max_features': 'auto', 'max_leaf_nodes': 5, 'n_estimators': 10, 'min_samples_split': 7, 'min_samples_leaf': 8, 'random_state': 1}. Best is trial 13 with value: 0.5662182901797679.\u001b[0m\n"
          ],
          "name": "stderr"
        },
        {
          "output_type": "stream",
          "text": [
            "0.5720552364819111\n"
          ],
          "name": "stdout"
        },
        {
          "output_type": "stream",
          "text": [
            "\u001b[32m[I 2021-03-07 03:01:34,974]\u001b[0m Trial 21 finished with value: 0.5681731032619283 and parameters: {'criterion': 'gini', 'bootstrap': 'True', 'max_depth': 3, 'max_features': 'auto', 'max_leaf_nodes': 5, 'n_estimators': 10, 'min_samples_split': 10, 'min_samples_leaf': 10, 'random_state': 6}. Best is trial 13 with value: 0.5662182901797679.\u001b[0m\n"
          ],
          "name": "stderr"
        },
        {
          "output_type": "stream",
          "text": [
            "0.5681731032619283\n"
          ],
          "name": "stdout"
        },
        {
          "output_type": "stream",
          "text": [
            "\u001b[32m[I 2021-03-07 03:01:35,204]\u001b[0m Trial 22 finished with value: 0.5662182901797679 and parameters: {'criterion': 'gini', 'bootstrap': 'True', 'max_depth': 4, 'max_features': 'auto', 'max_leaf_nodes': 5, 'n_estimators': 12, 'min_samples_split': 10, 'min_samples_leaf': 10, 'random_state': 6}. Best is trial 13 with value: 0.5662182901797679.\u001b[0m\n"
          ],
          "name": "stderr"
        },
        {
          "output_type": "stream",
          "text": [
            "0.5662182901797679\n"
          ],
          "name": "stdout"
        },
        {
          "output_type": "stream",
          "text": [
            "\u001b[32m[I 2021-03-07 03:01:35,437]\u001b[0m Trial 23 finished with value: 0.5695807604953543 and parameters: {'criterion': 'gini', 'bootstrap': 'True', 'max_depth': 4, 'max_features': 'auto', 'max_leaf_nodes': 5, 'n_estimators': 14, 'min_samples_split': 9, 'min_samples_leaf': 9, 'random_state': 5}. Best is trial 13 with value: 0.5662182901797679.\u001b[0m\n"
          ],
          "name": "stderr"
        },
        {
          "output_type": "stream",
          "text": [
            "0.5695807604953543\n"
          ],
          "name": "stdout"
        },
        {
          "output_type": "stream",
          "text": [
            "\u001b[32m[I 2021-03-07 03:01:35,661]\u001b[0m Trial 24 finished with value: 0.5841495326027908 and parameters: {'criterion': 'gini', 'bootstrap': 'True', 'max_depth': 4, 'max_features': 'auto', 'max_leaf_nodes': 4, 'n_estimators': 5, 'min_samples_split': 8, 'min_samples_leaf': 10, 'random_state': 7}. Best is trial 13 with value: 0.5662182901797679.\u001b[0m\n"
          ],
          "name": "stderr"
        },
        {
          "output_type": "stream",
          "text": [
            "0.5841495326027908\n"
          ],
          "name": "stdout"
        },
        {
          "output_type": "stream",
          "text": [
            "\u001b[32m[I 2021-03-07 03:01:35,893]\u001b[0m Trial 25 finished with value: 0.5741865897479214 and parameters: {'criterion': 'gini', 'bootstrap': 'True', 'max_depth': 4, 'max_features': 'auto', 'max_leaf_nodes': 5, 'n_estimators': 6, 'min_samples_split': 10, 'min_samples_leaf': 7, 'random_state': 8}. Best is trial 13 with value: 0.5662182901797679.\u001b[0m\n"
          ],
          "name": "stderr"
        },
        {
          "output_type": "stream",
          "text": [
            "0.5741865897479214\n"
          ],
          "name": "stdout"
        },
        {
          "output_type": "stream",
          "text": [
            "\u001b[32m[I 2021-03-07 03:01:36,123]\u001b[0m Trial 26 finished with value: 0.5712504104245415 and parameters: {'criterion': 'gini', 'bootstrap': 'True', 'max_depth': 4, 'max_features': 'auto', 'max_leaf_nodes': 4, 'n_estimators': 15, 'min_samples_split': 7, 'min_samples_leaf': 9, 'random_state': 6}. Best is trial 13 with value: 0.5662182901797679.\u001b[0m\n"
          ],
          "name": "stderr"
        },
        {
          "output_type": "stream",
          "text": [
            "0.5712504104245415\n"
          ],
          "name": "stdout"
        },
        {
          "output_type": "stream",
          "text": [
            "\u001b[32m[I 2021-03-07 03:01:36,350]\u001b[0m Trial 27 finished with value: 0.5688928589813629 and parameters: {'criterion': 'gini', 'bootstrap': 'True', 'max_depth': 4, 'max_features': 'sqrt', 'max_leaf_nodes': 5, 'n_estimators': 12, 'min_samples_split': 9, 'min_samples_leaf': 8, 'random_state': 5}. Best is trial 13 with value: 0.5662182901797679.\u001b[0m\n"
          ],
          "name": "stderr"
        },
        {
          "output_type": "stream",
          "text": [
            "0.5688928589813629\n"
          ],
          "name": "stdout"
        },
        {
          "output_type": "stream",
          "text": [
            "\u001b[32m[I 2021-03-07 03:01:36,586]\u001b[0m Trial 28 finished with value: 0.5655761791548357 and parameters: {'criterion': 'gini', 'bootstrap': 'True', 'max_depth': 3, 'max_features': 'auto', 'max_leaf_nodes': 5, 'n_estimators': 18, 'min_samples_split': 9, 'min_samples_leaf': 10, 'random_state': 4}. Best is trial 28 with value: 0.5655761791548357.\u001b[0m\n"
          ],
          "name": "stderr"
        },
        {
          "output_type": "stream",
          "text": [
            "0.5655761791548357\n"
          ],
          "name": "stdout"
        },
        {
          "output_type": "stream",
          "text": [
            "\u001b[32m[I 2021-03-07 03:01:36,822]\u001b[0m Trial 29 finished with value: 0.5699349300844483 and parameters: {'criterion': 'entropy', 'bootstrap': 'True', 'max_depth': 3, 'max_features': 'auto', 'max_leaf_nodes': 4, 'n_estimators': 19, 'min_samples_split': 7, 'min_samples_leaf': 6, 'random_state': 3}. Best is trial 28 with value: 0.5655761791548357.\u001b[0m\n"
          ],
          "name": "stderr"
        },
        {
          "output_type": "stream",
          "text": [
            "0.5699349300844483\n"
          ],
          "name": "stdout"
        },
        {
          "output_type": "stream",
          "text": [
            "\u001b[32m[I 2021-03-07 03:01:37,056]\u001b[0m Trial 30 finished with value: 0.5675544523909903 and parameters: {'criterion': 'gini', 'bootstrap': 'True', 'max_depth': 3, 'max_features': 'auto', 'max_leaf_nodes': 5, 'n_estimators': 26, 'min_samples_split': 8, 'min_samples_leaf': 9, 'random_state': 3}. Best is trial 28 with value: 0.5655761791548357.\u001b[0m\n"
          ],
          "name": "stderr"
        },
        {
          "output_type": "stream",
          "text": [
            "0.5675544523909903\n"
          ],
          "name": "stdout"
        },
        {
          "output_type": "stream",
          "text": [
            "\u001b[32m[I 2021-03-07 03:01:37,283]\u001b[0m Trial 31 finished with value: 0.5743972219565884 and parameters: {'criterion': 'gini', 'bootstrap': 'True', 'max_depth': 4, 'max_features': 'auto', 'max_leaf_nodes': 5, 'n_estimators': 8, 'min_samples_split': 9, 'min_samples_leaf': 10, 'random_state': 4}. Best is trial 28 with value: 0.5655761791548357.\u001b[0m\n"
          ],
          "name": "stderr"
        },
        {
          "output_type": "stream",
          "text": [
            "0.5743972219565884\n"
          ],
          "name": "stdout"
        },
        {
          "output_type": "stream",
          "text": [
            "\u001b[32m[I 2021-03-07 03:01:37,511]\u001b[0m Trial 32 finished with value: 0.5686882747511142 and parameters: {'criterion': 'gini', 'bootstrap': 'True', 'max_depth': 4, 'max_features': 'auto', 'max_leaf_nodes': 5, 'n_estimators': 16, 'min_samples_split': 10, 'min_samples_leaf': 10, 'random_state': 5}. Best is trial 28 with value: 0.5655761791548357.\u001b[0m\n"
          ],
          "name": "stderr"
        },
        {
          "output_type": "stream",
          "text": [
            "0.5686882747511142\n"
          ],
          "name": "stdout"
        },
        {
          "output_type": "stream",
          "text": [
            "\u001b[32m[I 2021-03-07 03:01:37,742]\u001b[0m Trial 33 finished with value: 0.5655407556951207 and parameters: {'criterion': 'gini', 'bootstrap': 'True', 'max_depth': 4, 'max_features': 'auto', 'max_leaf_nodes': 5, 'n_estimators': 22, 'min_samples_split': 9, 'min_samples_leaf': 10, 'random_state': 6}. Best is trial 33 with value: 0.5655407556951207.\u001b[0m\n"
          ],
          "name": "stderr"
        },
        {
          "output_type": "stream",
          "text": [
            "0.5655407556951207\n"
          ],
          "name": "stdout"
        },
        {
          "output_type": "stream",
          "text": [
            "\u001b[32m[I 2021-03-07 03:01:37,974]\u001b[0m Trial 34 finished with value: 0.5998536995427005 and parameters: {'criterion': 'gini', 'bootstrap': 'True', 'max_depth': 1, 'max_features': 'auto', 'max_leaf_nodes': 5, 'n_estimators': 22, 'min_samples_split': 8, 'min_samples_leaf': 9, 'random_state': 5}. Best is trial 33 with value: 0.5655407556951207.\u001b[0m\n"
          ],
          "name": "stderr"
        },
        {
          "output_type": "stream",
          "text": [
            "0.5998536995427005\n"
          ],
          "name": "stdout"
        },
        {
          "output_type": "stream",
          "text": [
            "\u001b[32m[I 2021-03-07 03:01:38,211]\u001b[0m Trial 35 finished with value: 0.5640689120402863 and parameters: {'criterion': 'entropy', 'bootstrap': 'True', 'max_depth': 4, 'max_features': 'sqrt', 'max_leaf_nodes': 5, 'n_estimators': 28, 'min_samples_split': 10, 'min_samples_leaf': 2, 'random_state': 4}. Best is trial 35 with value: 0.5640689120402863.\u001b[0m\n"
          ],
          "name": "stderr"
        },
        {
          "output_type": "stream",
          "text": [
            "0.5640689120402863\n"
          ],
          "name": "stdout"
        },
        {
          "output_type": "stream",
          "text": [
            "\u001b[32m[I 2021-03-07 03:01:38,447]\u001b[0m Trial 36 finished with value: 0.5701119180474475 and parameters: {'criterion': 'entropy', 'bootstrap': 'True', 'max_depth': 3, 'max_features': 'sqrt', 'max_leaf_nodes': 4, 'n_estimators': 29, 'min_samples_split': 10, 'min_samples_leaf': 2, 'random_state': 4}. Best is trial 35 with value: 0.5640689120402863.\u001b[0m\n"
          ],
          "name": "stderr"
        },
        {
          "output_type": "stream",
          "text": [
            "0.5701119180474475\n"
          ],
          "name": "stdout"
        },
        {
          "output_type": "stream",
          "text": [
            "\u001b[32m[I 2021-03-07 03:01:38,692]\u001b[0m Trial 37 finished with value: 0.5710782019091172 and parameters: {'criterion': 'entropy', 'bootstrap': 'False', 'max_depth': 2, 'max_features': 'sqrt', 'max_leaf_nodes': 5, 'n_estimators': 26, 'min_samples_split': 5, 'min_samples_leaf': 2, 'random_state': 2}. Best is trial 35 with value: 0.5640689120402863.\u001b[0m\n"
          ],
          "name": "stderr"
        },
        {
          "output_type": "stream",
          "text": [
            "0.5710782019091172\n"
          ],
          "name": "stdout"
        },
        {
          "output_type": "stream",
          "text": [
            "\u001b[32m[I 2021-03-07 03:01:38,925]\u001b[0m Trial 38 finished with value: 0.565120493186041 and parameters: {'criterion': 'entropy', 'bootstrap': 'True', 'max_depth': 4, 'max_features': 'sqrt', 'max_leaf_nodes': 5, 'n_estimators': 25, 'min_samples_split': 9, 'min_samples_leaf': 4, 'random_state': 3}. Best is trial 35 with value: 0.5640689120402863.\u001b[0m\n"
          ],
          "name": "stderr"
        },
        {
          "output_type": "stream",
          "text": [
            "0.565120493186041\n"
          ],
          "name": "stdout"
        },
        {
          "output_type": "stream",
          "text": [
            "\u001b[32m[I 2021-03-07 03:01:39,163]\u001b[0m Trial 39 finished with value: 0.5699817184684082 and parameters: {'criterion': 'entropy', 'bootstrap': 'False', 'max_depth': 2, 'max_features': 'sqrt', 'max_leaf_nodes': 4, 'n_estimators': 26, 'min_samples_split': 6, 'min_samples_leaf': 4, 'random_state': 3}. Best is trial 35 with value: 0.5640689120402863.\u001b[0m\n"
          ],
          "name": "stderr"
        },
        {
          "output_type": "stream",
          "text": [
            "0.5699817184684082\n"
          ],
          "name": "stdout"
        },
        {
          "output_type": "stream",
          "text": [
            "\u001b[32m[I 2021-03-07 03:01:39,402]\u001b[0m Trial 40 finished with value: 0.5812199988611924 and parameters: {'criterion': 'entropy', 'bootstrap': 'True', 'max_depth': 4, 'max_features': 'sqrt', 'max_leaf_nodes': 3, 'n_estimators': 24, 'min_samples_split': 8, 'min_samples_leaf': 4, 'random_state': 1}. Best is trial 35 with value: 0.5640689120402863.\u001b[0m\n"
          ],
          "name": "stderr"
        },
        {
          "output_type": "stream",
          "text": [
            "0.5812199988611924\n"
          ],
          "name": "stdout"
        },
        {
          "output_type": "stream",
          "text": [
            "\u001b[32m[I 2021-03-07 03:01:39,642]\u001b[0m Trial 41 finished with value: 0.565517248360226 and parameters: {'criterion': 'entropy', 'bootstrap': 'True', 'max_depth': 4, 'max_features': 'sqrt', 'max_leaf_nodes': 5, 'n_estimators': 22, 'min_samples_split': 10, 'min_samples_leaf': 4, 'random_state': 4}. Best is trial 35 with value: 0.5640689120402863.\u001b[0m\n"
          ],
          "name": "stderr"
        },
        {
          "output_type": "stream",
          "text": [
            "0.565517248360226\n"
          ],
          "name": "stdout"
        },
        {
          "output_type": "stream",
          "text": [
            "\u001b[32m[I 2021-03-07 03:01:39,877]\u001b[0m Trial 42 finished with value: 0.565517248360226 and parameters: {'criterion': 'entropy', 'bootstrap': 'True', 'max_depth': 4, 'max_features': 'sqrt', 'max_leaf_nodes': 5, 'n_estimators': 22, 'min_samples_split': 9, 'min_samples_leaf': 4, 'random_state': 4}. Best is trial 35 with value: 0.5640689120402863.\u001b[0m\n"
          ],
          "name": "stderr"
        },
        {
          "output_type": "stream",
          "text": [
            "0.565517248360226\n"
          ],
          "name": "stdout"
        },
        {
          "output_type": "stream",
          "text": [
            "\u001b[32m[I 2021-03-07 03:01:40,116]\u001b[0m Trial 43 finished with value: 0.5654324290063781 and parameters: {'criterion': 'entropy', 'bootstrap': 'True', 'max_depth': 4, 'max_features': 'sqrt', 'max_leaf_nodes': 5, 'n_estimators': 24, 'min_samples_split': 10, 'min_samples_leaf': 4, 'random_state': 2}. Best is trial 35 with value: 0.5640689120402863.\u001b[0m\n"
          ],
          "name": "stderr"
        },
        {
          "output_type": "stream",
          "text": [
            "0.5654324290063781\n"
          ],
          "name": "stdout"
        },
        {
          "output_type": "stream",
          "text": [
            "\u001b[32m[I 2021-03-07 03:01:40,358]\u001b[0m Trial 44 finished with value: 0.5656044330658037 and parameters: {'criterion': 'entropy', 'bootstrap': 'True', 'max_depth': 4, 'max_features': 'sqrt', 'max_leaf_nodes': 5, 'n_estimators': 30, 'min_samples_split': 10, 'min_samples_leaf': 4, 'random_state': 2}. Best is trial 35 with value: 0.5640689120402863.\u001b[0m\n"
          ],
          "name": "stderr"
        },
        {
          "output_type": "stream",
          "text": [
            "0.5656044330658037\n"
          ],
          "name": "stdout"
        },
        {
          "output_type": "stream",
          "text": [
            "\u001b[32m[I 2021-03-07 03:01:40,596]\u001b[0m Trial 45 finished with value: 0.5650020797770416 and parameters: {'criterion': 'entropy', 'bootstrap': 'True', 'max_depth': 4, 'max_features': 'sqrt', 'max_leaf_nodes': 5, 'n_estimators': 24, 'min_samples_split': 10, 'min_samples_leaf': 3, 'random_state': 3}. Best is trial 35 with value: 0.5640689120402863.\u001b[0m\n"
          ],
          "name": "stderr"
        },
        {
          "output_type": "stream",
          "text": [
            "0.5650020797770416\n"
          ],
          "name": "stdout"
        },
        {
          "output_type": "stream",
          "text": [
            "\u001b[32m[I 2021-03-07 03:01:40,833]\u001b[0m Trial 46 finished with value: 0.566220077565529 and parameters: {'criterion': 'entropy', 'bootstrap': 'True', 'max_depth': 4, 'max_features': 'sqrt', 'max_leaf_nodes': 5, 'n_estimators': 28, 'min_samples_split': 10, 'min_samples_leaf': 3, 'random_state': 3}. Best is trial 35 with value: 0.5640689120402863.\u001b[0m\n"
          ],
          "name": "stderr"
        },
        {
          "output_type": "stream",
          "text": [
            "0.566220077565529\n"
          ],
          "name": "stdout"
        },
        {
          "output_type": "stream",
          "text": [
            "\u001b[32m[I 2021-03-07 03:01:41,071]\u001b[0m Trial 47 finished with value: 0.5654324290063781 and parameters: {'criterion': 'entropy', 'bootstrap': 'False', 'max_depth': 4, 'max_features': 'sqrt', 'max_leaf_nodes': 5, 'n_estimators': 24, 'min_samples_split': 10, 'min_samples_leaf': 3, 'random_state': 2}. Best is trial 35 with value: 0.5640689120402863.\u001b[0m\n"
          ],
          "name": "stderr"
        },
        {
          "output_type": "stream",
          "text": [
            "0.5654324290063781\n"
          ],
          "name": "stdout"
        },
        {
          "output_type": "stream",
          "text": [
            "\u001b[32m[I 2021-03-07 03:01:41,306]\u001b[0m Trial 48 finished with value: 0.5705460159463777 and parameters: {'criterion': 'entropy', 'bootstrap': 'False', 'max_depth': 4, 'max_features': 'sqrt', 'max_leaf_nodes': 4, 'n_estimators': 24, 'min_samples_split': 10, 'min_samples_leaf': 3, 'random_state': 2}. Best is trial 35 with value: 0.5640689120402863.\u001b[0m\n"
          ],
          "name": "stderr"
        },
        {
          "output_type": "stream",
          "text": [
            "0.5705460159463777\n"
          ],
          "name": "stdout"
        },
        {
          "output_type": "stream",
          "text": [
            "\u001b[32m[I 2021-03-07 03:01:41,547]\u001b[0m Trial 49 finished with value: 0.6048388316585762 and parameters: {'criterion': 'entropy', 'bootstrap': 'False', 'max_depth': 4, 'max_features': 'sqrt', 'max_leaf_nodes': 2, 'n_estimators': 27, 'min_samples_split': 10, 'min_samples_leaf': 2, 'random_state': 1}. Best is trial 35 with value: 0.5640689120402863.\u001b[0m\n"
          ],
          "name": "stderr"
        },
        {
          "output_type": "stream",
          "text": [
            "0.6048388316585762\n"
          ],
          "name": "stdout"
        },
        {
          "output_type": "stream",
          "text": [
            "\u001b[32m[I 2021-03-07 03:01:41,784]\u001b[0m Trial 50 finished with value: 0.5654324290063781 and parameters: {'criterion': 'entropy', 'bootstrap': 'False', 'max_depth': 4, 'max_features': 'sqrt', 'max_leaf_nodes': 5, 'n_estimators': 24, 'min_samples_split': 10, 'min_samples_leaf': 3, 'random_state': 2}. Best is trial 35 with value: 0.5640689120402863.\u001b[0m\n"
          ],
          "name": "stderr"
        },
        {
          "output_type": "stream",
          "text": [
            "0.5654324290063781\n"
          ],
          "name": "stdout"
        },
        {
          "output_type": "stream",
          "text": [
            "\u001b[32m[I 2021-03-07 03:01:42,020]\u001b[0m Trial 51 finished with value: 0.5654324290063781 and parameters: {'criterion': 'entropy', 'bootstrap': 'False', 'max_depth': 4, 'max_features': 'sqrt', 'max_leaf_nodes': 5, 'n_estimators': 24, 'min_samples_split': 10, 'min_samples_leaf': 3, 'random_state': 2}. Best is trial 35 with value: 0.5640689120402863.\u001b[0m\n"
          ],
          "name": "stderr"
        },
        {
          "output_type": "stream",
          "text": [
            "0.5654324290063781\n"
          ],
          "name": "stdout"
        },
        {
          "output_type": "stream",
          "text": [
            "\u001b[32m[I 2021-03-07 03:01:42,265]\u001b[0m Trial 52 finished with value: 0.5665994297949967 and parameters: {'criterion': 'entropy', 'bootstrap': 'False', 'max_depth': 4, 'max_features': 'sqrt', 'max_leaf_nodes': 5, 'n_estimators': 25, 'min_samples_split': 10, 'min_samples_leaf': 3, 'random_state': 2}. Best is trial 35 with value: 0.5640689120402863.\u001b[0m\n"
          ],
          "name": "stderr"
        },
        {
          "output_type": "stream",
          "text": [
            "0.5665994297949967\n"
          ],
          "name": "stdout"
        },
        {
          "output_type": "stream",
          "text": [
            "\u001b[32m[I 2021-03-07 03:01:42,503]\u001b[0m Trial 53 finished with value: 0.566220077565529 and parameters: {'criterion': 'entropy', 'bootstrap': 'False', 'max_depth': 4, 'max_features': 'sqrt', 'max_leaf_nodes': 5, 'n_estimators': 28, 'min_samples_split': 2, 'min_samples_leaf': 2, 'random_state': 3}. Best is trial 35 with value: 0.5640689120402863.\u001b[0m\n"
          ],
          "name": "stderr"
        },
        {
          "output_type": "stream",
          "text": [
            "0.566220077565529\n"
          ],
          "name": "stdout"
        },
        {
          "output_type": "stream",
          "text": [
            "\u001b[32m[I 2021-03-07 03:01:42,747]\u001b[0m Trial 54 finished with value: 0.5645394199991467 and parameters: {'criterion': 'entropy', 'bootstrap': 'False', 'max_depth': 4, 'max_features': 'sqrt', 'max_leaf_nodes': 5, 'n_estimators': 30, 'min_samples_split': 9, 'min_samples_leaf': 3, 'random_state': 1}. Best is trial 35 with value: 0.5640689120402863.\u001b[0m\n"
          ],
          "name": "stderr"
        },
        {
          "output_type": "stream",
          "text": [
            "0.5645394199991467\n"
          ],
          "name": "stdout"
        },
        {
          "output_type": "stream",
          "text": [
            "\u001b[32m[I 2021-03-07 03:01:42,985]\u001b[0m Trial 55 finished with value: 0.5645394199991467 and parameters: {'criterion': 'entropy', 'bootstrap': 'False', 'max_depth': 4, 'max_features': 'sqrt', 'max_leaf_nodes': 5, 'n_estimators': 30, 'min_samples_split': 9, 'min_samples_leaf': 5, 'random_state': 1}. Best is trial 35 with value: 0.5640689120402863.\u001b[0m\n"
          ],
          "name": "stderr"
        },
        {
          "output_type": "stream",
          "text": [
            "0.5645394199991467\n"
          ],
          "name": "stdout"
        },
        {
          "output_type": "stream",
          "text": [
            "\u001b[32m[I 2021-03-07 03:01:43,221]\u001b[0m Trial 56 finished with value: 0.5645394199991467 and parameters: {'criterion': 'entropy', 'bootstrap': 'False', 'max_depth': 4, 'max_features': 'log2', 'max_leaf_nodes': 5, 'n_estimators': 30, 'min_samples_split': 9, 'min_samples_leaf': 5, 'random_state': 1}. Best is trial 35 with value: 0.5640689120402863.\u001b[0m\n"
          ],
          "name": "stderr"
        },
        {
          "output_type": "stream",
          "text": [
            "0.5645394199991467\n"
          ],
          "name": "stdout"
        },
        {
          "output_type": "stream",
          "text": [
            "\u001b[32m[I 2021-03-07 03:01:43,465]\u001b[0m Trial 57 finished with value: 0.5645394199991467 and parameters: {'criterion': 'entropy', 'bootstrap': 'False', 'max_depth': 4, 'max_features': 'log2', 'max_leaf_nodes': 5, 'n_estimators': 30, 'min_samples_split': 8, 'min_samples_leaf': 5, 'random_state': 1}. Best is trial 35 with value: 0.5640689120402863.\u001b[0m\n"
          ],
          "name": "stderr"
        },
        {
          "output_type": "stream",
          "text": [
            "0.5645394199991467\n"
          ],
          "name": "stdout"
        },
        {
          "output_type": "stream",
          "text": [
            "\u001b[32m[I 2021-03-07 03:01:43,709]\u001b[0m Trial 58 finished with value: 0.5645394199991467 and parameters: {'criterion': 'entropy', 'bootstrap': 'False', 'max_depth': 4, 'max_features': 'log2', 'max_leaf_nodes': 5, 'n_estimators': 30, 'min_samples_split': 8, 'min_samples_leaf': 5, 'random_state': 1}. Best is trial 35 with value: 0.5640689120402863.\u001b[0m\n"
          ],
          "name": "stderr"
        },
        {
          "output_type": "stream",
          "text": [
            "0.5645394199991467\n"
          ],
          "name": "stdout"
        },
        {
          "output_type": "stream",
          "text": [
            "\u001b[32m[I 2021-03-07 03:01:43,950]\u001b[0m Trial 59 finished with value: 0.5645394199991467 and parameters: {'criterion': 'entropy', 'bootstrap': 'False', 'max_depth': 4, 'max_features': 'log2', 'max_leaf_nodes': 5, 'n_estimators': 30, 'min_samples_split': 7, 'min_samples_leaf': 5, 'random_state': 1}. Best is trial 35 with value: 0.5640689120402863.\u001b[0m\n"
          ],
          "name": "stderr"
        },
        {
          "output_type": "stream",
          "text": [
            "0.5645394199991467\n"
          ],
          "name": "stdout"
        },
        {
          "output_type": "stream",
          "text": [
            "\u001b[32m[I 2021-03-07 03:01:44,193]\u001b[0m Trial 60 finished with value: 0.5685645261069406 and parameters: {'criterion': 'entropy', 'bootstrap': 'False', 'max_depth': 3, 'max_features': 'log2', 'max_leaf_nodes': 4, 'n_estimators': 30, 'min_samples_split': 7, 'min_samples_leaf': 6, 'random_state': 1}. Best is trial 35 with value: 0.5640689120402863.\u001b[0m\n"
          ],
          "name": "stderr"
        },
        {
          "output_type": "stream",
          "text": [
            "0.5685645261069406\n"
          ],
          "name": "stdout"
        },
        {
          "output_type": "stream",
          "text": [
            "\u001b[32m[I 2021-03-07 03:01:44,434]\u001b[0m Trial 61 finished with value: 0.5645394199991467 and parameters: {'criterion': 'entropy', 'bootstrap': 'False', 'max_depth': 4, 'max_features': 'log2', 'max_leaf_nodes': 5, 'n_estimators': 30, 'min_samples_split': 8, 'min_samples_leaf': 5, 'random_state': 1}. Best is trial 35 with value: 0.5640689120402863.\u001b[0m\n"
          ],
          "name": "stderr"
        },
        {
          "output_type": "stream",
          "text": [
            "0.5645394199991467\n"
          ],
          "name": "stdout"
        },
        {
          "output_type": "stream",
          "text": [
            "\u001b[32m[I 2021-03-07 03:01:44,680]\u001b[0m Trial 62 finished with value: 0.5648029628488763 and parameters: {'criterion': 'entropy', 'bootstrap': 'False', 'max_depth': 4, 'max_features': 'log2', 'max_leaf_nodes': 5, 'n_estimators': 29, 'min_samples_split': 8, 'min_samples_leaf': 5, 'random_state': 1}. Best is trial 35 with value: 0.5640689120402863.\u001b[0m\n"
          ],
          "name": "stderr"
        },
        {
          "output_type": "stream",
          "text": [
            "0.5648029628488763\n"
          ],
          "name": "stdout"
        },
        {
          "output_type": "stream",
          "text": [
            "\u001b[32m[I 2021-03-07 03:01:44,917]\u001b[0m Trial 63 finished with value: 0.5651988874028275 and parameters: {'criterion': 'entropy', 'bootstrap': 'False', 'max_depth': 4, 'max_features': 'log2', 'max_leaf_nodes': 5, 'n_estimators': 28, 'min_samples_split': 8, 'min_samples_leaf': 5, 'random_state': 1}. Best is trial 35 with value: 0.5640689120402863.\u001b[0m\n"
          ],
          "name": "stderr"
        },
        {
          "output_type": "stream",
          "text": [
            "0.5651988874028275\n"
          ],
          "name": "stdout"
        },
        {
          "output_type": "stream",
          "text": [
            "\u001b[32m[I 2021-03-07 03:01:45,162]\u001b[0m Trial 64 finished with value: 0.5645394199991467 and parameters: {'criterion': 'entropy', 'bootstrap': 'False', 'max_depth': 4, 'max_features': 'log2', 'max_leaf_nodes': 5, 'n_estimators': 30, 'min_samples_split': 7, 'min_samples_leaf': 6, 'random_state': 1}. Best is trial 35 with value: 0.5640689120402863.\u001b[0m\n"
          ],
          "name": "stderr"
        },
        {
          "output_type": "stream",
          "text": [
            "0.5645394199991467\n"
          ],
          "name": "stdout"
        },
        {
          "output_type": "stream",
          "text": [
            "\u001b[32m[I 2021-03-07 03:01:45,403]\u001b[0m Trial 65 finished with value: 0.5648029628488763 and parameters: {'criterion': 'entropy', 'bootstrap': 'False', 'max_depth': 4, 'max_features': 'log2', 'max_leaf_nodes': 5, 'n_estimators': 29, 'min_samples_split': 7, 'min_samples_leaf': 6, 'random_state': 1}. Best is trial 35 with value: 0.5640689120402863.\u001b[0m\n"
          ],
          "name": "stderr"
        },
        {
          "output_type": "stream",
          "text": [
            "0.5648029628488763\n"
          ],
          "name": "stdout"
        },
        {
          "output_type": "stream",
          "text": [
            "\u001b[32m[I 2021-03-07 03:01:45,646]\u001b[0m Trial 66 finished with value: 0.5641956677206219 and parameters: {'criterion': 'entropy', 'bootstrap': 'False', 'max_depth': 4, 'max_features': 'log2', 'max_leaf_nodes': 5, 'n_estimators': 27, 'min_samples_split': 6, 'min_samples_leaf': 6, 'random_state': 1}. Best is trial 35 with value: 0.5640689120402863.\u001b[0m\n"
          ],
          "name": "stderr"
        },
        {
          "output_type": "stream",
          "text": [
            "0.5641956677206219\n"
          ],
          "name": "stdout"
        },
        {
          "output_type": "stream",
          "text": [
            "\u001b[32m[I 2021-03-07 03:01:45,888]\u001b[0m Trial 67 finished with value: 0.5641956677206219 and parameters: {'criterion': 'entropy', 'bootstrap': 'False', 'max_depth': 4, 'max_features': 'log2', 'max_leaf_nodes': 5, 'n_estimators': 27, 'min_samples_split': 5, 'min_samples_leaf': 7, 'random_state': 1}. Best is trial 35 with value: 0.5640689120402863.\u001b[0m\n"
          ],
          "name": "stderr"
        },
        {
          "output_type": "stream",
          "text": [
            "0.5641956677206219\n"
          ],
          "name": "stdout"
        },
        {
          "output_type": "stream",
          "text": [
            "\u001b[32m[I 2021-03-07 03:01:46,126]\u001b[0m Trial 68 finished with value: 0.5641956677206219 and parameters: {'criterion': 'entropy', 'bootstrap': 'False', 'max_depth': 4, 'max_features': 'log2', 'max_leaf_nodes': 5, 'n_estimators': 27, 'min_samples_split': 5, 'min_samples_leaf': 7, 'random_state': 1}. Best is trial 35 with value: 0.5640689120402863.\u001b[0m\n"
          ],
          "name": "stderr"
        },
        {
          "output_type": "stream",
          "text": [
            "0.5641956677206219\n"
          ],
          "name": "stdout"
        },
        {
          "output_type": "stream",
          "text": [
            "\u001b[32m[I 2021-03-07 03:01:46,367]\u001b[0m Trial 69 finished with value: 0.5633064770619612 and parameters: {'criterion': 'entropy', 'bootstrap': 'False', 'max_depth': 3, 'max_features': 'log2', 'max_leaf_nodes': 5, 'n_estimators': 27, 'min_samples_split': 5, 'min_samples_leaf': 7, 'random_state': 10}. Best is trial 69 with value: 0.5633064770619612.\u001b[0m\n"
          ],
          "name": "stderr"
        },
        {
          "output_type": "stream",
          "text": [
            "0.5633064770619612\n"
          ],
          "name": "stdout"
        },
        {
          "output_type": "stream",
          "text": [
            "\u001b[32m[I 2021-03-07 03:01:46,604]\u001b[0m Trial 70 finished with value: 0.5777733197386967 and parameters: {'criterion': 'entropy', 'bootstrap': 'False', 'max_depth': 3, 'max_features': 'log2', 'max_leaf_nodes': 3, 'n_estimators': 27, 'min_samples_split': 5, 'min_samples_leaf': 7, 'random_state': 9}. Best is trial 69 with value: 0.5633064770619612.\u001b[0m\n"
          ],
          "name": "stderr"
        },
        {
          "output_type": "stream",
          "text": [
            "0.5777733197386967\n"
          ],
          "name": "stdout"
        },
        {
          "output_type": "stream",
          "text": [
            "\u001b[32m[I 2021-03-07 03:01:46,841]\u001b[0m Trial 71 finished with value: 0.5660257362984376 and parameters: {'criterion': 'entropy', 'bootstrap': 'False', 'max_depth': 3, 'max_features': 'log2', 'max_leaf_nodes': 5, 'n_estimators': 27, 'min_samples_split': 5, 'min_samples_leaf': 7, 'random_state': 2}. Best is trial 69 with value: 0.5633064770619612.\u001b[0m\n"
          ],
          "name": "stderr"
        },
        {
          "output_type": "stream",
          "text": [
            "0.5660257362984376\n"
          ],
          "name": "stdout"
        },
        {
          "output_type": "stream",
          "text": [
            "\u001b[32m[I 2021-03-07 03:01:47,082]\u001b[0m Trial 72 finished with value: 0.5632835326213715 and parameters: {'criterion': 'entropy', 'bootstrap': 'False', 'max_depth': 4, 'max_features': 'log2', 'max_leaf_nodes': 5, 'n_estimators': 28, 'min_samples_split': 4, 'min_samples_leaf': 7, 'random_state': 10}. Best is trial 72 with value: 0.5632835326213715.\u001b[0m\n"
          ],
          "name": "stderr"
        },
        {
          "output_type": "stream",
          "text": [
            "0.5632835326213715\n"
          ],
          "name": "stdout"
        },
        {
          "output_type": "stream",
          "text": [
            "\u001b[32m[I 2021-03-07 03:01:47,319]\u001b[0m Trial 73 finished with value: 0.5685667130753844 and parameters: {'criterion': 'entropy', 'bootstrap': 'False', 'max_depth': 2, 'max_features': 'log2', 'max_leaf_nodes': 5, 'n_estimators': 28, 'min_samples_split': 4, 'min_samples_leaf': 7, 'random_state': 9}. Best is trial 72 with value: 0.5632835326213715.\u001b[0m\n"
          ],
          "name": "stderr"
        },
        {
          "output_type": "stream",
          "text": [
            "0.5685667130753844\n"
          ],
          "name": "stdout"
        },
        {
          "output_type": "stream",
          "text": [
            "\u001b[32m[I 2021-03-07 03:01:47,558]\u001b[0m Trial 74 finished with value: 0.5630862944314882 and parameters: {'criterion': 'entropy', 'bootstrap': 'False', 'max_depth': 4, 'max_features': 'log2', 'max_leaf_nodes': 5, 'n_estimators': 27, 'min_samples_split': 4, 'min_samples_leaf': 8, 'random_state': 10}. Best is trial 74 with value: 0.5630862944314882.\u001b[0m\n"
          ],
          "name": "stderr"
        },
        {
          "output_type": "stream",
          "text": [
            "0.5630862944314882\n"
          ],
          "name": "stdout"
        },
        {
          "output_type": "stream",
          "text": [
            "\u001b[32m[I 2021-03-07 03:01:47,801]\u001b[0m Trial 75 finished with value: 0.5630862944314882 and parameters: {'criterion': 'entropy', 'bootstrap': 'False', 'max_depth': 4, 'max_features': 'log2', 'max_leaf_nodes': 5, 'n_estimators': 27, 'min_samples_split': 4, 'min_samples_leaf': 8, 'random_state': 10}. Best is trial 74 with value: 0.5630862944314882.\u001b[0m\n"
          ],
          "name": "stderr"
        },
        {
          "output_type": "stream",
          "text": [
            "0.5630862944314882\n"
          ],
          "name": "stdout"
        },
        {
          "output_type": "stream",
          "text": [
            "\u001b[32m[I 2021-03-07 03:01:48,036]\u001b[0m Trial 76 finished with value: 0.5626760856333423 and parameters: {'criterion': 'entropy', 'bootstrap': 'False', 'max_depth': 4, 'max_features': 'log2', 'max_leaf_nodes': 5, 'n_estimators': 26, 'min_samples_split': 4, 'min_samples_leaf': 8, 'random_state': 10}. Best is trial 76 with value: 0.5626760856333423.\u001b[0m\n"
          ],
          "name": "stderr"
        },
        {
          "output_type": "stream",
          "text": [
            "0.5626760856333423\n"
          ],
          "name": "stdout"
        },
        {
          "output_type": "stream",
          "text": [
            "\u001b[32m[I 2021-03-07 03:01:48,272]\u001b[0m Trial 77 finished with value: 0.562929633385566 and parameters: {'criterion': 'entropy', 'bootstrap': 'False', 'max_depth': 3, 'max_features': 'log2', 'max_leaf_nodes': 5, 'n_estimators': 26, 'min_samples_split': 3, 'min_samples_leaf': 8, 'random_state': 10}. Best is trial 76 with value: 0.5626760856333423.\u001b[0m\n"
          ],
          "name": "stderr"
        },
        {
          "output_type": "stream",
          "text": [
            "0.562929633385566\n"
          ],
          "name": "stdout"
        },
        {
          "output_type": "stream",
          "text": [
            "\u001b[32m[I 2021-03-07 03:01:48,511]\u001b[0m Trial 78 finished with value: 0.562929633385566 and parameters: {'criterion': 'entropy', 'bootstrap': 'False', 'max_depth': 3, 'max_features': 'log2', 'max_leaf_nodes': 5, 'n_estimators': 26, 'min_samples_split': 3, 'min_samples_leaf': 8, 'random_state': 10}. Best is trial 76 with value: 0.5626760856333423.\u001b[0m\n"
          ],
          "name": "stderr"
        },
        {
          "output_type": "stream",
          "text": [
            "0.562929633385566\n"
          ],
          "name": "stdout"
        },
        {
          "output_type": "stream",
          "text": [
            "\u001b[32m[I 2021-03-07 03:01:48,746]\u001b[0m Trial 79 finished with value: 0.5627583442219645 and parameters: {'criterion': 'entropy', 'bootstrap': 'False', 'max_depth': 3, 'max_features': 'log2', 'max_leaf_nodes': 5, 'n_estimators': 25, 'min_samples_split': 3, 'min_samples_leaf': 8, 'random_state': 10}. Best is trial 76 with value: 0.5626760856333423.\u001b[0m\n"
          ],
          "name": "stderr"
        },
        {
          "output_type": "stream",
          "text": [
            "0.5627583442219645\n"
          ],
          "name": "stdout"
        },
        {
          "output_type": "stream",
          "text": [
            "\u001b[32m[I 2021-03-07 03:01:48,987]\u001b[0m Trial 80 finished with value: 0.5627583442219645 and parameters: {'criterion': 'entropy', 'bootstrap': 'False', 'max_depth': 3, 'max_features': 'log2', 'max_leaf_nodes': 5, 'n_estimators': 25, 'min_samples_split': 3, 'min_samples_leaf': 8, 'random_state': 10}. Best is trial 76 with value: 0.5626760856333423.\u001b[0m\n"
          ],
          "name": "stderr"
        },
        {
          "output_type": "stream",
          "text": [
            "0.5627583442219645\n"
          ],
          "name": "stdout"
        },
        {
          "output_type": "stream",
          "text": [
            "\u001b[32m[I 2021-03-07 03:01:49,223]\u001b[0m Trial 81 finished with value: 0.5627583442219645 and parameters: {'criterion': 'entropy', 'bootstrap': 'False', 'max_depth': 3, 'max_features': 'log2', 'max_leaf_nodes': 5, 'n_estimators': 25, 'min_samples_split': 3, 'min_samples_leaf': 8, 'random_state': 10}. Best is trial 76 with value: 0.5626760856333423.\u001b[0m\n"
          ],
          "name": "stderr"
        },
        {
          "output_type": "stream",
          "text": [
            "0.5627583442219645\n"
          ],
          "name": "stdout"
        },
        {
          "output_type": "stream",
          "text": [
            "\u001b[32m[I 2021-03-07 03:01:49,456]\u001b[0m Trial 82 finished with value: 0.5627583442219645 and parameters: {'criterion': 'entropy', 'bootstrap': 'False', 'max_depth': 3, 'max_features': 'log2', 'max_leaf_nodes': 5, 'n_estimators': 25, 'min_samples_split': 3, 'min_samples_leaf': 8, 'random_state': 10}. Best is trial 76 with value: 0.5626760856333423.\u001b[0m\n"
          ],
          "name": "stderr"
        },
        {
          "output_type": "stream",
          "text": [
            "0.5627583442219645\n"
          ],
          "name": "stdout"
        },
        {
          "output_type": "stream",
          "text": [
            "\u001b[32m[I 2021-03-07 03:01:49,693]\u001b[0m Trial 83 finished with value: 0.5627583442219645 and parameters: {'criterion': 'entropy', 'bootstrap': 'False', 'max_depth': 3, 'max_features': 'log2', 'max_leaf_nodes': 5, 'n_estimators': 25, 'min_samples_split': 3, 'min_samples_leaf': 8, 'random_state': 10}. Best is trial 76 with value: 0.5626760856333423.\u001b[0m\n"
          ],
          "name": "stderr"
        },
        {
          "output_type": "stream",
          "text": [
            "0.5627583442219645\n"
          ],
          "name": "stdout"
        },
        {
          "output_type": "stream",
          "text": [
            "\u001b[32m[I 2021-03-07 03:01:49,930]\u001b[0m Trial 84 finished with value: 0.5661254386641118 and parameters: {'criterion': 'entropy', 'bootstrap': 'False', 'max_depth': 3, 'max_features': 'log2', 'max_leaf_nodes': 5, 'n_estimators': 25, 'min_samples_split': 3, 'min_samples_leaf': 8, 'random_state': 9}. Best is trial 76 with value: 0.5626760856333423.\u001b[0m\n"
          ],
          "name": "stderr"
        },
        {
          "output_type": "stream",
          "text": [
            "0.5661254386641118\n"
          ],
          "name": "stdout"
        },
        {
          "output_type": "stream",
          "text": [
            "\u001b[32m[I 2021-03-07 03:01:50,168]\u001b[0m Trial 85 finished with value: 0.5617851939139011 and parameters: {'criterion': 'entropy', 'bootstrap': 'False', 'max_depth': 3, 'max_features': 'log2', 'max_leaf_nodes': 5, 'n_estimators': 23, 'min_samples_split': 3, 'min_samples_leaf': 8, 'random_state': 10}. Best is trial 85 with value: 0.5617851939139011.\u001b[0m\n"
          ],
          "name": "stderr"
        },
        {
          "output_type": "stream",
          "text": [
            "0.5617851939139011\n"
          ],
          "name": "stdout"
        },
        {
          "output_type": "stream",
          "text": [
            "\u001b[32m[I 2021-03-07 03:01:50,404]\u001b[0m Trial 86 finished with value: 0.5620823662518496 and parameters: {'criterion': 'entropy', 'bootstrap': 'False', 'max_depth': 3, 'max_features': 'log2', 'max_leaf_nodes': 5, 'n_estimators': 21, 'min_samples_split': 3, 'min_samples_leaf': 8, 'random_state': 10}. Best is trial 85 with value: 0.5617851939139011.\u001b[0m\n"
          ],
          "name": "stderr"
        },
        {
          "output_type": "stream",
          "text": [
            "0.5620823662518496\n"
          ],
          "name": "stdout"
        },
        {
          "output_type": "stream",
          "text": [
            "\u001b[32m[I 2021-03-07 03:01:50,643]\u001b[0m Trial 87 finished with value: 0.5685139852164262 and parameters: {'criterion': 'entropy', 'bootstrap': 'False', 'max_depth': 3, 'max_features': 'log2', 'max_leaf_nodes': 5, 'n_estimators': 21, 'min_samples_split': 3, 'min_samples_leaf': 8, 'random_state': 9}. Best is trial 85 with value: 0.5617851939139011.\u001b[0m\n"
          ],
          "name": "stderr"
        },
        {
          "output_type": "stream",
          "text": [
            "0.5685139852164262\n"
          ],
          "name": "stdout"
        },
        {
          "output_type": "stream",
          "text": [
            "\u001b[32m[I 2021-03-07 03:01:50,881]\u001b[0m Trial 88 finished with value: 0.5671428541092425 and parameters: {'criterion': 'entropy', 'bootstrap': 'False', 'max_depth': 3, 'max_features': 'log2', 'max_leaf_nodes': 5, 'n_estimators': 23, 'min_samples_split': 3, 'min_samples_leaf': 9, 'random_state': 9}. Best is trial 85 with value: 0.5617851939139011.\u001b[0m\n"
          ],
          "name": "stderr"
        },
        {
          "output_type": "stream",
          "text": [
            "0.5671428541092425\n"
          ],
          "name": "stdout"
        },
        {
          "output_type": "stream",
          "text": [
            "\u001b[32m[I 2021-03-07 03:01:51,117]\u001b[0m Trial 89 finished with value: 0.5617851939139011 and parameters: {'criterion': 'entropy', 'bootstrap': 'False', 'max_depth': 3, 'max_features': 'log2', 'max_leaf_nodes': 5, 'n_estimators': 23, 'min_samples_split': 2, 'min_samples_leaf': 8, 'random_state': 10}. Best is trial 85 with value: 0.5617851939139011.\u001b[0m\n"
          ],
          "name": "stderr"
        },
        {
          "output_type": "stream",
          "text": [
            "0.5617851939139011\n"
          ],
          "name": "stdout"
        },
        {
          "output_type": "stream",
          "text": [
            "\u001b[32m[I 2021-03-07 03:01:51,353]\u001b[0m Trial 90 finished with value: 0.5662386847352973 and parameters: {'criterion': 'entropy', 'bootstrap': 'False', 'max_depth': 3, 'max_features': 'log2', 'max_leaf_nodes': 4, 'n_estimators': 23, 'min_samples_split': 2, 'min_samples_leaf': 8, 'random_state': 10}. Best is trial 85 with value: 0.5617851939139011.\u001b[0m\n"
          ],
          "name": "stderr"
        },
        {
          "output_type": "stream",
          "text": [
            "0.5662386847352973\n"
          ],
          "name": "stdout"
        },
        {
          "output_type": "stream",
          "text": [
            "\u001b[32m[I 2021-03-07 03:01:51,591]\u001b[0m Trial 91 finished with value: 0.5627583442219645 and parameters: {'criterion': 'entropy', 'bootstrap': 'False', 'max_depth': 3, 'max_features': 'log2', 'max_leaf_nodes': 5, 'n_estimators': 25, 'min_samples_split': 3, 'min_samples_leaf': 8, 'random_state': 10}. Best is trial 85 with value: 0.5617851939139011.\u001b[0m\n"
          ],
          "name": "stderr"
        },
        {
          "output_type": "stream",
          "text": [
            "0.5627583442219645\n"
          ],
          "name": "stdout"
        },
        {
          "output_type": "stream",
          "text": [
            "\u001b[32m[I 2021-03-07 03:01:51,826]\u001b[0m Trial 92 finished with value: 0.5620823662518496 and parameters: {'criterion': 'entropy', 'bootstrap': 'False', 'max_depth': 3, 'max_features': 'log2', 'max_leaf_nodes': 5, 'n_estimators': 21, 'min_samples_split': 3, 'min_samples_leaf': 9, 'random_state': 10}. Best is trial 85 with value: 0.5617851939139011.\u001b[0m\n"
          ],
          "name": "stderr"
        },
        {
          "output_type": "stream",
          "text": [
            "0.5620823662518496\n"
          ],
          "name": "stdout"
        },
        {
          "output_type": "stream",
          "text": [
            "\u001b[32m[I 2021-03-07 03:01:52,067]\u001b[0m Trial 93 finished with value: 0.5627631325292374 and parameters: {'criterion': 'entropy', 'bootstrap': 'False', 'max_depth': 3, 'max_features': 'log2', 'max_leaf_nodes': 5, 'n_estimators': 20, 'min_samples_split': 2, 'min_samples_leaf': 9, 'random_state': 10}. Best is trial 85 with value: 0.5617851939139011.\u001b[0m\n"
          ],
          "name": "stderr"
        },
        {
          "output_type": "stream",
          "text": [
            "0.5627631325292374\n"
          ],
          "name": "stdout"
        },
        {
          "output_type": "stream",
          "text": [
            "\u001b[32m[I 2021-03-07 03:01:52,300]\u001b[0m Trial 94 finished with value: 0.5685139852164262 and parameters: {'criterion': 'entropy', 'bootstrap': 'False', 'max_depth': 3, 'max_features': 'log2', 'max_leaf_nodes': 5, 'n_estimators': 21, 'min_samples_split': 2, 'min_samples_leaf': 9, 'random_state': 9}. Best is trial 85 with value: 0.5617851939139011.\u001b[0m\n"
          ],
          "name": "stderr"
        },
        {
          "output_type": "stream",
          "text": [
            "0.5685139852164262\n"
          ],
          "name": "stdout"
        },
        {
          "output_type": "stream",
          "text": [
            "\u001b[32m[I 2021-03-07 03:01:52,542]\u001b[0m Trial 95 finished with value: 0.5617851939139011 and parameters: {'criterion': 'entropy', 'bootstrap': 'False', 'max_depth': 3, 'max_features': 'log2', 'max_leaf_nodes': 5, 'n_estimators': 23, 'min_samples_split': 3, 'min_samples_leaf': 8, 'random_state': 10}. Best is trial 85 with value: 0.5617851939139011.\u001b[0m\n"
          ],
          "name": "stderr"
        },
        {
          "output_type": "stream",
          "text": [
            "0.5617851939139011\n"
          ],
          "name": "stdout"
        },
        {
          "output_type": "stream",
          "text": [
            "\u001b[32m[I 2021-03-07 03:01:52,784]\u001b[0m Trial 96 finished with value: 0.5671428541092425 and parameters: {'criterion': 'entropy', 'bootstrap': 'False', 'max_depth': 3, 'max_features': 'log2', 'max_leaf_nodes': 5, 'n_estimators': 23, 'min_samples_split': 3, 'min_samples_leaf': 9, 'random_state': 9}. Best is trial 85 with value: 0.5617851939139011.\u001b[0m\n"
          ],
          "name": "stderr"
        },
        {
          "output_type": "stream",
          "text": [
            "0.5671428541092425\n"
          ],
          "name": "stdout"
        },
        {
          "output_type": "stream",
          "text": [
            "\u001b[32m[I 2021-03-07 03:01:53,025]\u001b[0m Trial 97 finished with value: 0.563109635759301 and parameters: {'criterion': 'entropy', 'bootstrap': 'False', 'max_depth': 3, 'max_features': 'log2', 'max_leaf_nodes': 5, 'n_estimators': 19, 'min_samples_split': 2, 'min_samples_leaf': 9, 'random_state': 10}. Best is trial 85 with value: 0.5617851939139011.\u001b[0m\n"
          ],
          "name": "stderr"
        },
        {
          "output_type": "stream",
          "text": [
            "0.563109635759301\n"
          ],
          "name": "stdout"
        },
        {
          "output_type": "stream",
          "text": [
            "\u001b[32m[I 2021-03-07 03:01:53,270]\u001b[0m Trial 98 finished with value: 0.566916515173815 and parameters: {'criterion': 'entropy', 'bootstrap': 'False', 'max_depth': 2, 'max_features': 'log2', 'max_leaf_nodes': 5, 'n_estimators': 21, 'min_samples_split': 3, 'min_samples_leaf': 8, 'random_state': 10}. Best is trial 85 with value: 0.5617851939139011.\u001b[0m\n"
          ],
          "name": "stderr"
        },
        {
          "output_type": "stream",
          "text": [
            "0.566916515173815\n"
          ],
          "name": "stdout"
        },
        {
          "output_type": "stream",
          "text": [
            "\u001b[32m[I 2021-03-07 03:01:53,514]\u001b[0m Trial 99 finished with value: 0.569124295758469 and parameters: {'criterion': 'entropy', 'bootstrap': 'False', 'max_depth': 3, 'max_features': 'log2', 'max_leaf_nodes': 5, 'n_estimators': 22, 'min_samples_split': 2, 'min_samples_leaf': 8, 'random_state': 8}. Best is trial 85 with value: 0.5617851939139011.\u001b[0m\n"
          ],
          "name": "stderr"
        },
        {
          "output_type": "stream",
          "text": [
            "0.569124295758469\n"
          ],
          "name": "stdout"
        }
      ]
    },
    {
      "cell_type": "code",
      "metadata": {
        "colab": {
          "base_uri": "https://localhost:8080/"
        },
        "id": "KgstReGorsNk",
        "outputId": "a799bbe9-b111-46fe-d3fc-e6c053d7298e"
      },
      "source": [
        "best_params = study.best_params\r\n",
        "\r\n",
        "print(\"Best params\", best_params)\r\n",
        "\r\n",
        "for key, value in best_params.items():\r\n",
        "  print(\"   {}: {}\".format(key,value))"
      ],
      "execution_count": null,
      "outputs": [
        {
          "output_type": "stream",
          "text": [
            "Best params {'criterion': 'entropy', 'bootstrap': 'True', 'max_depth': 3, 'max_features': 'auto', 'max_leaf_nodes': 5, 'n_estimators': 20, 'min_samples_split': 80, 'min_samples_leaf': 94, 'random_state': 62}\n",
            "   criterion: entropy\n",
            "   bootstrap: True\n",
            "   max_depth: 3\n",
            "   max_features: auto\n",
            "   max_leaf_nodes: 5\n",
            "   n_estimators: 20\n",
            "   min_samples_split: 80\n",
            "   min_samples_leaf: 94\n",
            "   random_state: 62\n"
          ],
          "name": "stdout"
        }
      ]
    },
    {
      "cell_type": "code",
      "metadata": {
        "colab": {
          "base_uri": "https://localhost:8080/",
          "height": 402
        },
        "id": "XxwQBfqAfEy7",
        "outputId": "26ade0c8-9a40-4ec3-ecbe-ea0e558eb175"
      },
      "source": [
        "X"
      ],
      "execution_count": null,
      "outputs": [
        {
          "output_type": "execute_result",
          "data": {
            "text/html": [
              "<div>\n",
              "<style scoped>\n",
              "    .dataframe tbody tr th:only-of-type {\n",
              "        vertical-align: middle;\n",
              "    }\n",
              "\n",
              "    .dataframe tbody tr th {\n",
              "        vertical-align: top;\n",
              "    }\n",
              "\n",
              "    .dataframe thead th {\n",
              "        text-align: right;\n",
              "    }\n",
              "</style>\n",
              "<table border=\"1\" class=\"dataframe\">\n",
              "  <thead>\n",
              "    <tr style=\"text-align: right;\">\n",
              "      <th></th>\n",
              "      <th>Season</th>\n",
              "      <th>DayNum</th>\n",
              "      <th>TeamIdA</th>\n",
              "      <th>ScoreA</th>\n",
              "      <th>TeamIdB</th>\n",
              "      <th>ScoreB</th>\n",
              "      <th>Round</th>\n",
              "      <th>SeedA</th>\n",
              "      <th>SeedB</th>\n",
              "      <th>WinRatioA</th>\n",
              "      <th>GapAvgA</th>\n",
              "      <th>WinRatioB</th>\n",
              "      <th>GapAvgB</th>\n",
              "      <th>SeedDiff</th>\n",
              "      <th>WinRatioDiff</th>\n",
              "      <th>GapAvgDiff</th>\n",
              "      <th>ScoreDiff</th>\n",
              "      <th>WinA</th>\n",
              "    </tr>\n",
              "  </thead>\n",
              "  <tbody>\n",
              "    <tr>\n",
              "      <th>0</th>\n",
              "      <td>2003</td>\n",
              "      <td>134</td>\n",
              "      <td>1421</td>\n",
              "      <td>92</td>\n",
              "      <td>1411</td>\n",
              "      <td>84</td>\n",
              "      <td>0</td>\n",
              "      <td>1.000000</td>\n",
              "      <td>1.000000</td>\n",
              "      <td>0.128857</td>\n",
              "      <td>0.000000</td>\n",
              "      <td>0.368421</td>\n",
              "      <td>0.296754</td>\n",
              "      <td>0.500000</td>\n",
              "      <td>0.380218</td>\n",
              "      <td>0.311979</td>\n",
              "      <td>8</td>\n",
              "      <td>1</td>\n",
              "    </tr>\n",
              "    <tr>\n",
              "      <th>1</th>\n",
              "      <td>2003</td>\n",
              "      <td>136</td>\n",
              "      <td>1112</td>\n",
              "      <td>80</td>\n",
              "      <td>1436</td>\n",
              "      <td>51</td>\n",
              "      <td>0</td>\n",
              "      <td>0.000000</td>\n",
              "      <td>1.000000</td>\n",
              "      <td>0.830827</td>\n",
              "      <td>0.715636</td>\n",
              "      <td>0.455535</td>\n",
              "      <td>0.383398</td>\n",
              "      <td>0.000000</td>\n",
              "      <td>0.687646</td>\n",
              "      <td>0.710504</td>\n",
              "      <td>29</td>\n",
              "      <td>1</td>\n",
              "    </tr>\n",
              "    <tr>\n",
              "      <th>2</th>\n",
              "      <td>2003</td>\n",
              "      <td>136</td>\n",
              "      <td>1113</td>\n",
              "      <td>84</td>\n",
              "      <td>1272</td>\n",
              "      <td>71</td>\n",
              "      <td>0</td>\n",
              "      <td>0.600000</td>\n",
              "      <td>0.400000</td>\n",
              "      <td>0.401089</td>\n",
              "      <td>0.452298</td>\n",
              "      <td>0.673321</td>\n",
              "      <td>0.513420</td>\n",
              "      <td>0.600000</td>\n",
              "      <td>0.363884</td>\n",
              "      <td>0.461274</td>\n",
              "      <td>13</td>\n",
              "      <td>1</td>\n",
              "    </tr>\n",
              "    <tr>\n",
              "      <th>3</th>\n",
              "      <td>2003</td>\n",
              "      <td>136</td>\n",
              "      <td>1141</td>\n",
              "      <td>79</td>\n",
              "      <td>1166</td>\n",
              "      <td>73</td>\n",
              "      <td>0</td>\n",
              "      <td>0.666667</td>\n",
              "      <td>0.333333</td>\n",
              "      <td>0.673321</td>\n",
              "      <td>0.430072</td>\n",
              "      <td>0.808612</td>\n",
              "      <td>0.713858</td>\n",
              "      <td>0.666667</td>\n",
              "      <td>0.432354</td>\n",
              "      <td>0.320196</td>\n",
              "      <td>6</td>\n",
              "      <td>1</td>\n",
              "    </tr>\n",
              "    <tr>\n",
              "      <th>4</th>\n",
              "      <td>2003</td>\n",
              "      <td>136</td>\n",
              "      <td>1143</td>\n",
              "      <td>76</td>\n",
              "      <td>1301</td>\n",
              "      <td>74</td>\n",
              "      <td>0</td>\n",
              "      <td>0.466667</td>\n",
              "      <td>0.533333</td>\n",
              "      <td>0.564428</td>\n",
              "      <td>0.385620</td>\n",
              "      <td>0.368421</td>\n",
              "      <td>0.375174</td>\n",
              "      <td>0.466667</td>\n",
              "      <td>0.598004</td>\n",
              "      <td>0.506619</td>\n",
              "      <td>2</td>\n",
              "      <td>1</td>\n",
              "    </tr>\n",
              "    <tr>\n",
              "      <th>...</th>\n",
              "      <td>...</td>\n",
              "      <td>...</td>\n",
              "      <td>...</td>\n",
              "      <td>...</td>\n",
              "      <td>...</td>\n",
              "      <td>...</td>\n",
              "      <td>...</td>\n",
              "      <td>...</td>\n",
              "      <td>...</td>\n",
              "      <td>...</td>\n",
              "      <td>...</td>\n",
              "      <td>...</td>\n",
              "      <td>...</td>\n",
              "      <td>...</td>\n",
              "      <td>...</td>\n",
              "      <td>...</td>\n",
              "      <td>...</td>\n",
              "      <td>...</td>\n",
              "    </tr>\n",
              "    <tr>\n",
              "      <th>1110</th>\n",
              "      <td>2019</td>\n",
              "      <td>146</td>\n",
              "      <td>1246</td>\n",
              "      <td>71</td>\n",
              "      <td>1120</td>\n",
              "      <td>77</td>\n",
              "      <td>4</td>\n",
              "      <td>0.066667</td>\n",
              "      <td>0.266667</td>\n",
              "      <td>0.712919</td>\n",
              "      <td>0.597643</td>\n",
              "      <td>0.582043</td>\n",
              "      <td>0.565128</td>\n",
              "      <td>0.400000</td>\n",
              "      <td>0.565438</td>\n",
              "      <td>0.520601</td>\n",
              "      <td>-6</td>\n",
              "      <td>0</td>\n",
              "    </tr>\n",
              "    <tr>\n",
              "      <th>1111</th>\n",
              "      <td>2019</td>\n",
              "      <td>146</td>\n",
              "      <td>1181</td>\n",
              "      <td>67</td>\n",
              "      <td>1277</td>\n",
              "      <td>68</td>\n",
              "      <td>4</td>\n",
              "      <td>0.000000</td>\n",
              "      <td>0.066667</td>\n",
              "      <td>0.767802</td>\n",
              "      <td>0.747119</td>\n",
              "      <td>0.721362</td>\n",
              "      <td>0.661811</td>\n",
              "      <td>0.466667</td>\n",
              "      <td>0.523220</td>\n",
              "      <td>0.554051</td>\n",
              "      <td>-1</td>\n",
              "      <td>0</td>\n",
              "    </tr>\n",
              "    <tr>\n",
              "      <th>1112</th>\n",
              "      <td>2019</td>\n",
              "      <td>152</td>\n",
              "      <td>1277</td>\n",
              "      <td>51</td>\n",
              "      <td>1403</td>\n",
              "      <td>61</td>\n",
              "      <td>0</td>\n",
              "      <td>0.066667</td>\n",
              "      <td>0.133333</td>\n",
              "      <td>0.721362</td>\n",
              "      <td>0.661811</td>\n",
              "      <td>0.703947</td>\n",
              "      <td>0.678517</td>\n",
              "      <td>0.466667</td>\n",
              "      <td>0.508707</td>\n",
              "      <td>0.489415</td>\n",
              "      <td>-10</td>\n",
              "      <td>0</td>\n",
              "    </tr>\n",
              "    <tr>\n",
              "      <th>1113</th>\n",
              "      <td>2019</td>\n",
              "      <td>152</td>\n",
              "      <td>1120</td>\n",
              "      <td>62</td>\n",
              "      <td>1438</td>\n",
              "      <td>63</td>\n",
              "      <td>0</td>\n",
              "      <td>0.266667</td>\n",
              "      <td>0.000000</td>\n",
              "      <td>0.582043</td>\n",
              "      <td>0.565128</td>\n",
              "      <td>0.851974</td>\n",
              "      <td>0.774193</td>\n",
              "      <td>0.633333</td>\n",
              "      <td>0.365035</td>\n",
              "      <td>0.367538</td>\n",
              "      <td>-1</td>\n",
              "      <td>0</td>\n",
              "    </tr>\n",
              "    <tr>\n",
              "      <th>1114</th>\n",
              "      <td>2019</td>\n",
              "      <td>154</td>\n",
              "      <td>1403</td>\n",
              "      <td>77</td>\n",
              "      <td>1438</td>\n",
              "      <td>85</td>\n",
              "      <td>0</td>\n",
              "      <td>0.133333</td>\n",
              "      <td>0.000000</td>\n",
              "      <td>0.703947</td>\n",
              "      <td>0.678517</td>\n",
              "      <td>0.851974</td>\n",
              "      <td>0.774193</td>\n",
              "      <td>0.566667</td>\n",
              "      <td>0.425987</td>\n",
              "      <td>0.439380</td>\n",
              "      <td>-8</td>\n",
              "      <td>0</td>\n",
              "    </tr>\n",
              "  </tbody>\n",
              "</table>\n",
              "<p>2230 rows × 18 columns</p>\n",
              "</div>"
            ],
            "text/plain": [
              "      Season  DayNum  TeamIdA  ...  GapAvgDiff  ScoreDiff  WinA\n",
              "0       2003     134     1421  ...    0.311979          8     1\n",
              "1       2003     136     1112  ...    0.710504         29     1\n",
              "2       2003     136     1113  ...    0.461274         13     1\n",
              "3       2003     136     1141  ...    0.320196          6     1\n",
              "4       2003     136     1143  ...    0.506619          2     1\n",
              "...      ...     ...      ...  ...         ...        ...   ...\n",
              "1110    2019     146     1246  ...    0.520601         -6     0\n",
              "1111    2019     146     1181  ...    0.554051         -1     0\n",
              "1112    2019     152     1277  ...    0.489415        -10     0\n",
              "1113    2019     152     1120  ...    0.367538         -1     0\n",
              "1114    2019     154     1403  ...    0.439380         -8     0\n",
              "\n",
              "[2230 rows x 18 columns]"
            ]
          },
          "metadata": {
            "tags": []
          },
          "execution_count": 124
        }
      ]
    },
    {
      "cell_type": "code",
      "metadata": {
        "colab": {
          "base_uri": "https://localhost:8080/"
        },
        "id": "2a4GtHmasDMd",
        "outputId": "0c471f5b-fce4-4be7-995e-540e232d0e97"
      },
      "source": [
        "test_pred = []\r\n",
        "\r\n",
        "\r\n",
        "kf = KFold(n_splits=5, shuffle=True, random_state=1)\r\n",
        "\r\n",
        "for year in test['Season'].unique():\r\n",
        "\r\n",
        "\r\n",
        "  X_year = X[X['Season'] < year].copy()\r\n",
        "\r\n",
        "  # 予測するターゲットのカラム名を変更してもらう\r\n",
        "\r\n",
        "  y_year = X_year['WinA'].copy()\r\n",
        "\r\n",
        "  test_year = test[test['Season'] == year].copy()\r\n",
        "\r\n",
        "  X_year, test_year = rescale(features, X_year, test_year)\r\n",
        "\r\n",
        "  clf_val_pred = np.zeros(len(y_year))\r\n",
        "  clf_test_pred = np.zeros(len(test_year))\r\n",
        "  logloss = []\r\n",
        "\r\n",
        "  for trn_idx , val_idx in kf.split(X_year,y_year):\r\n",
        "    x_train_idx = X_year.iloc[trn_idx]\r\n",
        "    y_train_idx = y_year.iloc[trn_idx]\r\n",
        "    x_valid_idx = X_year.iloc[val_idx]\r\n",
        "    y_valid_idx = y_year.iloc[val_idx]\r\n",
        "\r\n",
        "    crf = RandomForestClassifier(bootstrap = study.best_params['bootstrap'], criterion = study.best_params['criterion'],\r\n",
        "                                     max_depth = study.best_params['max_depth'], max_features = study.best_params['max_features'],\r\n",
        "                                     max_leaf_nodes = study.best_params['max_leaf_nodes'],n_estimators = study.best_params['n_estimators'],\r\n",
        "                                     min_samples_split = study.best_params['min_samples_split'],min_samples_leaf = study.best_params['min_samples_leaf'],\r\n",
        "                                     random_state=study.best_params['random_state'])\r\n",
        "\r\n",
        "\r\n",
        "    clf = RandomForestClassifier(**best_params)\r\n",
        "    clf.fit(x_train_idx, y_train_idx)\r\n",
        "    clf_test_pred += clf.predict(test_year)/5\r\n",
        "\r\n",
        "    logloss.append(log_loss(y_valid_idx, clf.predict(x_valid_idx)))\r\n",
        "\r\n",
        "  test_pred += clf_test_pred.tolist()\r\n",
        "\r\n",
        "  print('Year_Predict:',year,'Log_Loss:', np.mean(logloss))"
      ],
      "execution_count": null,
      "outputs": [
        {
          "output_type": "stream",
          "text": [
            "Year_Predict: 2015 Log_Loss: 10.605309351340704\n",
            "Year_Predict: 2016 Log_Loss: 10.378153128477386\n",
            "Year_Predict: 2017 Log_Loss: 10.505610542777358\n",
            "Year_Predict: 2018 Log_Loss: 10.47439014982281\n",
            "Year_Predict: 2019 Log_Loss: 10.299147868918253\n"
          ],
          "name": "stdout"
        }
      ]
    },
    {
      "cell_type": "code",
      "metadata": {
        "colab": {
          "base_uri": "https://localhost:8080/",
          "height": 418
        },
        "id": "8_jYdy5UO6Ab",
        "outputId": "d4a56629-99e4-4342-bf99-38165a7c5626"
      },
      "source": [
        "#特徴量の重要度\r\n",
        "\r\n",
        "tree_feature_importances = (\r\n",
        "    clf.feature_importances_)\r\n",
        "\r\n",
        "print(tree_feature_importances)\r\n",
        "\r\n",
        "#特徴量の重要度を上から順に出力する\r\n",
        "\r\n",
        "f = pd.DataFrame({'number':range(0, len(tree_feature_importances)), 'tree_feature_importances':tree_feature_importances[:]})\r\n",
        "\r\n",
        "f2 = f.sort_values('tree_feature_importances', ascending=False)\r\n",
        "\r\n",
        "#特徴量の名前\r\n",
        "\r\n",
        "label = X_year.columns[0:]\r\n",
        "\r\n",
        "#特徴量の重要度順（降順）\r\n",
        "\r\n",
        "indices = np.argsort(tree_feature_importances)[::-1]\r\n",
        "\r\n",
        "# 特徴量別の寄与度を表示\r\n",
        "\r\n",
        "for i in range(len(tree_feature_importances)):\r\n",
        "  print(str(i+1) + \" \" + str(label[indices[i]]) + \" \" + str(tree_feature_importances[indices[i]]))\r\n",
        "\r\n",
        "# 特徴量別の寄与度をグラフ描画\r\n",
        "\r\n",
        "plt.title('Feature importance')\r\n",
        "plt.bar(range(len(tree_feature_importances)), tree_feature_importances[indices], color='lightblue', align='center')\r\n",
        "plt.xticks(range(len(tree_feature_importances)), label[indices], rotation=90)\r\n",
        "plt.xlim([-1, len(tree_feature_importances)])\r\n",
        "plt.tight_layout()\r\n",
        "plt.show()"
      ],
      "execution_count": null,
      "outputs": [
        {
          "output_type": "stream",
          "text": [
            "[0.14955249 0.11731532 0.0009477  0.01417048 0.00340875 0.0254395\n",
            " 0.44812377 0.04871301 0.19232898]\n",
            "1 SeedDiff 0.4481237740191769\n",
            "2 GapAvgDiff 0.1923289848222975\n",
            "3 SeedA 0.14955248511008673\n",
            "4 SeedB 0.11731532065775967\n",
            "5 WinRatioDiff 0.048713008037481034\n",
            "6 GapAvgB 0.025439495876874385\n",
            "7 GapAvgA 0.01417048034563149\n",
            "8 WinRatioB 0.0034087473068228026\n",
            "9 WinRatioA 0.0009477038238694871\n"
          ],
          "name": "stdout"
        },
        {
          "output_type": "display_data",
          "data": {
            "image/png": "[encoded data removed]",
            "text/plain": [
              "<Figure size 360x216 with 1 Axes>"
            ]
          },
          "metadata": {
            "tags": [],
            "needs_background": "light"
          }
        }
      ]
    },
    {
      "cell_type": "code",
      "metadata": {
        "colab": {
          "base_uri": "https://localhost:8080/",
          "height": 211
        },
        "id": "KYd4iRgjlU_Z",
        "outputId": "ca7e5325-cc75-4f34-90b1-8fb4d3c875e5"
      },
      "source": [
        "_ = sns.histplot(test_pred)"
      ],
      "execution_count": null,
      "outputs": [
        {
          "output_type": "display_data",
          "data": {
            "image/png": "[encoded data removed]",
            "text/plain": [
              "<Figure size 360x216 with 1 Axes>"
            ]
          },
          "metadata": {
            "tags": [],
            "needs_background": "light"
          }
        }
      ]
    },
    {
      "cell_type": "code",
      "metadata": {
        "id": "bKXWLmsdPKT-"
      },
      "source": [
        "# 提出\r\n",
        "\r\n",
        "sub = test[['ID', 'Pred']].copy()\r\n",
        "sub['Pred'] = test_pred\r\n",
        "sub.to_csv('submission.csv', index=False)\r\n",
        "\r\n"
      ],
      "execution_count": null,
      "outputs": []
    },
    {
      "cell_type": "code",
      "metadata": {
        "colab": {
          "base_uri": "https://localhost:8080/",
          "height": 17
        },
        "id": "HRpise94OrtI",
        "outputId": "41f79ecb-3991-443c-a0da-3526dd296b8e"
      },
      "source": [
        "\r\n",
        "from google.colab import files\r\n",
        "sub.to_csv(\"output.csv\")\r\n",
        "files.download('output.csv')"
      ],
      "execution_count": null,
      "outputs": [
        {
          "output_type": "display_data",
          "data": {
            "application/javascript": [
              "\n",
              "    async function download(id, filename, size) {\n",
              "      if (!google.colab.kernel.accessAllowed) {\n",
              "        return;\n",
              "      }\n",
              "      const div = document.createElement('div');\n",
              "      const label = document.createElement('label');\n",
              "      label.textContent = `Downloading \"${filename}\": `;\n",
              "      div.appendChild(label);\n",
              "      const progress = document.createElement('progress');\n",
              "      progress.max = size;\n",
              "      div.appendChild(progress);\n",
              "      document.body.appendChild(div);\n",
              "\n",
              "      const buffers = [];\n",
              "      let downloaded = 0;\n",
              "\n",
              "      const channel = await google.colab.kernel.comms.open(id);\n",
              "      // Send a message to notify the kernel that we're ready.\n",
              "      channel.send({})\n",
              "\n",
              "      for await (const message of channel.messages) {\n",
              "        // Send a message to notify the kernel that we're ready.\n",
              "        channel.send({})\n",
              "        if (message.buffers) {\n",
              "          for (const buffer of message.buffers) {\n",
              "            buffers.push(buffer);\n",
              "            downloaded += buffer.byteLength;\n",
              "            progress.value = downloaded;\n",
              "          }\n",
              "        }\n",
              "      }\n",
              "      const blob = new Blob(buffers, {type: 'application/binary'});\n",
              "      const a = document.createElement('a');\n",
              "      a.href = window.URL.createObjectURL(blob);\n",
              "      a.download = filename;\n",
              "      div.appendChild(a);\n",
              "      a.click();\n",
              "      div.remove();\n",
              "    }\n",
              "  "
            ],
            "text/plain": [
              "<IPython.core.display.Javascript object>"
            ]
          },
          "metadata": {
            "tags": []
          }
        },
        {
          "output_type": "display_data",
          "data": {
            "application/javascript": [
              "download(\"download_8c1d0a52-2849-42b9-b3e4-3430508e1036\", \"output.csv\", 447015)"
            ],
            "text/plain": [
              "<IPython.core.display.Javascript object>"
            ]
          },
          "metadata": {
            "tags": []
          }
        }
      ]
    }
  ]
}